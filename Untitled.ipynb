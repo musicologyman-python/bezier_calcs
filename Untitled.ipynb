{
 "cells": [
  {
   "cell_type": "code",
   "execution_count": 60,
   "id": "9ec14c2f-9ef7-48d3-ae53-c5ca2eaaca25",
   "metadata": {},
   "outputs": [],
   "source": [
    "from sympy import diff, init_printing, solveset, srepr, symbols, sympify, Eq, ImmutableMatrix, Matrix"
   ]
  },
  {
   "cell_type": "code",
   "execution_count": 3,
   "id": "430ff309-06b5-4aca-b2e4-7e2e1268766b",
   "metadata": {},
   "outputs": [],
   "source": [
    "x0, y0, x1, y1, x2, y2, x3, y3 = symbols('x0 y0 x1 y1 x2 y2 x3 y3')"
   ]
  },
  {
   "cell_type": "code",
   "execution_count": 4,
   "id": "399e7351-200b-4a2d-82d8-0f4e4b8b2b3e",
   "metadata": {},
   "outputs": [],
   "source": [
    "p0 = Matrix([x0, y0])\n",
    "p1 = Matrix([x1, y1])\n",
    "p2 = Matrix([x2, y2])\n",
    "p3 = Matrix([x3, y3])"
   ]
  },
  {
   "cell_type": "code",
   "execution_count": 6,
   "id": "9659352e-3a74-4807-bab3-412dc6e1bbfd",
   "metadata": {},
   "outputs": [],
   "source": [
    "cubic_bezier = sympify('(1 - t)**3 * p0 + 3 * (1 - t)**2 * t * p1 '\n",
    "                       '+ 3 * (1 - t) * t ** 2 * p2 + t**3 * p3')"
   ]
  },
  {
   "cell_type": "code",
   "execution_count": 9,
   "id": "00c0ae69-c2ac-4b24-8062-1f4c62f77ccd",
   "metadata": {},
   "outputs": [
    {
     "data": {
      "text/plain": [
       "'p0*(1 - t)**3 + 3*p1*t*(1 - t)**2 + p2*t**2*(3 - 3*t) + p3*t**3'"
      ]
     },
     "execution_count": 9,
     "metadata": {},
     "output_type": "execute_result"
    }
   ],
   "source": [
    "init_printing()\n",
    "str(cubic_bezier)"
   ]
  },
  {
   "cell_type": "code",
   "execution_count": 18,
   "id": "a3a98a7b-8f63-4487-bff3-7a70ed725969",
   "metadata": {},
   "outputs": [
    {
     "data": {
      "text/plain": [
       "\"Add(Mul(Symbol('p0'), Pow(Add(Integer(1), Mul(Integer(-1), Symbol('t'))), Integer(3))), Mul(Integer(3), Symbol('p1'), Symbol('t'), Pow(Add(Integer(1), Mul(Integer(-1), Symbol('t'))), Integer(2))), Mul(Symbol('p2'), Pow(Symbol('t'), Integer(2)), Add(Integer(3), Mul(Integer(-1), Integer(3), Symbol('t')))), Mul(Symbol('p3'), Pow(Symbol('t'), Integer(3))))\""
      ]
     },
     "execution_count": 18,
     "metadata": {},
     "output_type": "execute_result"
    }
   ],
   "source": [
    "srepr(cubic_bezier)"
   ]
  },
  {
   "cell_type": "code",
   "execution_count": 16,
   "id": "73fabebb-b80c-4742-afa7-efcc5ff406aa",
   "metadata": {},
   "outputs": [
    {
     "data": {
      "text/plain": [
       "\"MutableDenseMatrix([[Symbol('x0')], [Symbol('y0')]])\""
      ]
     },
     "execution_count": 16,
     "metadata": {},
     "output_type": "execute_result"
    }
   ],
   "source": [
    "srepr(p0)"
   ]
  },
  {
   "cell_type": "code",
   "execution_count": 21,
   "id": "651d001c-72cd-4b71-9320-61eb24390180",
   "metadata": {},
   "outputs": [
    {
     "ename": "TypeError",
     "evalue": "unhashable type: 'MutableDenseMatrix'",
     "output_type": "error",
     "traceback": [
      "\u001b[0;31m---------------------------------------------------------------------------\u001b[0m",
      "\u001b[0;31mTypeError\u001b[0m                                 Traceback (most recent call last)",
      "Cell \u001b[0;32mIn[21], line 1\u001b[0m\n\u001b[0;32m----> 1\u001b[0m cubic_bezier\u001b[38;5;241m.\u001b[39msubs({p0: p0, p1: p1, p2: p2, p3: p3})\n",
      "\u001b[0;31mTypeError\u001b[0m: unhashable type: 'MutableDenseMatrix'"
     ]
    }
   ],
   "source": [
    "cubic_bezier.subs({p0: p0, p1: p1, p2: p2, p3: p3})"
   ]
  },
  {
   "cell_type": "code",
   "execution_count": 22,
   "id": "661245b4-f90a-4b05-bd73-d3532d1c8ae4",
   "metadata": {},
   "outputs": [
    {
     "data": {
      "image/png": "[encoded data removed]",
      "text/latex": [
       "$\\displaystyle \\left[\\begin{matrix}218\\\\136\\end{matrix}\\right]$"
      ],
      "text/plain": [
       "⎡218⎤\n",
       "⎢   ⎥\n",
       "⎣136⎦"
      ]
     },
     "execution_count": 22,
     "metadata": {},
     "output_type": "execute_result"
    }
   ],
   "source": [
    "p0.subs({x0: 218, y0: 136})"
   ]
  },
  {
   "cell_type": "code",
   "execution_count": 38,
   "id": "14e367b5-670f-414a-9c67-b5ea7391c0bd",
   "metadata": {},
   "outputs": [
    {
     "data": {
      "image/png": "[encoded data removed]",
      "text/latex": [
       "$\\displaystyle \\left( \\left[\\begin{matrix}x_{0}\\\\y_{0}\\end{matrix}\\right], \\  \\left[\\begin{matrix}x_{1}\\\\y_{1}\\end{matrix}\\right], \\  \\left[\\begin{matrix}x_{2}\\\\y_{2}\\end{matrix}\\right], \\  \\left[\\begin{matrix}x_{3}\\\\y_{3}\\end{matrix}\\right]\\right)$"
      ],
      "text/plain": [
       "⎛⎡x₀⎤  ⎡x₁⎤  ⎡x₂⎤  ⎡x₃⎤⎞\n",
       "⎜⎢  ⎥, ⎢  ⎥, ⎢  ⎥, ⎢  ⎥⎟\n",
       "⎝⎣y₀⎦  ⎣y₁⎦  ⎣y₂⎦  ⎣y₃⎦⎠"
      ]
     },
     "execution_count": 38,
     "metadata": {},
     "output_type": "execute_result"
    }
   ],
   "source": [
    "x_0, y_0 = sympify('[ x_0, y_0 ]')\n",
    "P_0 = ImmutableMatrix([x_0, y_0])\n",
    "x_1, y_1 = sympify('[x_1, y_1]')\n",
    "P_1 = ImmutableMatrix([x_1, y_1])\n",
    "x_2, y_2 = sympify('[x_2, y_2]')\n",
    "P_2 = ImmutableMatrix([x_2, y_2])\n",
    "x_3, y_3 = sympify('[x_3, y_3]')\n",
    "P_3 = ImmutableMatrix([x_3, y_3])\n",
    "\n",
    "P_0, P_1, P_2, P_3"
   ]
  },
  {
   "cell_type": "code",
   "execution_count": 31,
   "id": "3bfc40fd-3a60-4144-9761-7acf1e47c259",
   "metadata": {},
   "outputs": [
    {
     "name": "stdout",
     "output_type": "stream",
     "text": [
      "x_1, y_1 = sympify('[x_1, y_1]')\n",
      "P_1 = Matrix([x_1, y_1]')\n",
      "x_2, y_2 = sympify('[x_2, y_2]')\n",
      "P_2 = Matrix([x_2, y_2]')\n",
      "x_3, y_3 = sympify('[x_3, y_3]')\n",
      "P_3 = Matrix([x_3, y_3]')\n"
     ]
    }
   ],
   "source": [
    "for i in range(1, 4):\n",
    "    print(f\"x_{i}, y_{i} = sympify('[x_{i}, y_{i}]')\")\n",
    "    print(f\"P_{i} = Matrix([x_{i}, y_{i}]')\")"
   ]
  },
  {
   "cell_type": "code",
   "execution_count": 41,
   "id": "0d2b265b-07a9-4c01-bed2-64776ba6150d",
   "metadata": {},
   "outputs": [
    {
     "data": {
      "image/png": "[encoded data removed]",
      "text/latex": [
       "$\\displaystyle p_{0} \\left(1 - t\\right)^{3} + 3 p_{1} t \\left(1 - t\\right)^{2} + p_{2} t^{2} \\cdot \\left(3 - 3 t\\right) + p_{3} t^{3}$"
      ],
      "text/plain": [
       "          3                 2       2                 3\n",
       "p₀⋅(1 - t)  + 3⋅p₁⋅t⋅(1 - t)  + p₂⋅t ⋅(3 - 3⋅t) + p₃⋅t "
      ]
     },
     "execution_count": 41,
     "metadata": {},
     "output_type": "execute_result"
    }
   ],
   "source": [
    "cubic_bezier.subs(p1, P_1)\n",
    "cubic_bezier.subs(p2, P_2)\n",
    "cubic_bezier.subs(p3, P_3)\n",
    "cubic_bezier"
   ]
  },
  {
   "cell_type": "code",
   "execution_count": 44,
   "id": "7df118a4-350c-496d-9083-b2574d22fe86",
   "metadata": {},
   "outputs": [
    {
     "data": {
      "image/png": "[encoded data removed]",
      "text/latex": [
       "$\\displaystyle \\left[\\begin{matrix}0\\\\0\\end{matrix}\\right]$"
      ],
      "text/plain": [
       "⎡0⎤\n",
       "⎢ ⎥\n",
       "⎣0⎦"
      ]
     },
     "execution_count": 44,
     "metadata": {},
     "output_type": "execute_result"
    }
   ],
   "source": [
    "P_0.subs({x_0: 0, y_0: 0})"
   ]
  },
  {
   "cell_type": "code",
   "execution_count": 45,
   "id": "62894781-5737-4b63-b81f-d665d0498803",
   "metadata": {},
   "outputs": [
    {
     "data": {
      "image/png": "[encoded data removed]",
      "text/latex": [
       "$\\displaystyle \\left( \\left[\\begin{matrix}x_{1}\\\\y_{1}\\end{matrix}\\right], \\  \\left[\\begin{matrix}x_{2}\\\\y_{2}\\end{matrix}\\right], \\  \\left[\\begin{matrix}x_{3}\\\\y_{3}\\end{matrix}\\right], \\  p_{0} \\left(1 - t\\right)^{3} + 3 p_{1} t \\left(1 - t\\right)^{2} + p_{2} t^{2} \\cdot \\left(3 - 3 t\\right) + p_{3} t^{3}\\right)$"
      ],
      "text/plain": [
       "⎛⎡x₁⎤  ⎡x₂⎤  ⎡x₃⎤            3                 2       2                 3⎞\n",
       "⎜⎢  ⎥, ⎢  ⎥, ⎢  ⎥, p₀⋅(1 - t)  + 3⋅p₁⋅t⋅(1 - t)  + p₂⋅t ⋅(3 - 3⋅t) + p₃⋅t ⎟\n",
       "⎝⎣y₁⎦  ⎣y₂⎦  ⎣y₃⎦                                                         ⎠"
      ]
     },
     "execution_count": 45,
     "metadata": {},
     "output_type": "execute_result"
    }
   ],
   "source": [
    "P_1.subs({x_1: 100, y_1: 100})\n",
    "P_2.subs({x_2: 200, y_2: 100})\n",
    "P_3.subs({x_3: 300, y_3: 0})\n",
    "P_1, P_2, P_3, cubic_bezier"
   ]
  },
  {
   "cell_type": "code",
   "execution_count": 48,
   "id": "f9bf879b-abe6-49a5-8b5d-dbb657d9c530",
   "metadata": {
    "collapsed": true,
    "jupyter": {
     "outputs_hidden": true
    },
    "tags": []
   },
   "outputs": [
    {
     "name": "stdout",
     "output_type": "stream",
     "text": [
      "p0*(1 - t)**3 + 3*p1*t*(1 - t)**2 + p2*t**2*(3 - 3*t) + p3*t**3\n",
      "p0*(1 - t)**3\n",
      "p0\n",
      "(1 - t)**3\n",
      "1 - t\n",
      "1\n",
      "-t\n",
      "-1\n",
      "t\n",
      "3\n",
      "p3*t**3\n",
      "p3\n",
      "t**3\n",
      "t\n",
      "3\n",
      "p2*t**2*(3 - 3*t)\n",
      "p2\n",
      "t**2\n",
      "t\n",
      "2\n",
      "3 - 3*t\n",
      "3\n",
      "-3*t\n",
      "-3\n",
      "t\n",
      "3*p1*t*(1 - t)**2\n",
      "3\n",
      "p1\n",
      "t\n",
      "(1 - t)**2\n",
      "1 - t\n",
      "1\n",
      "-t\n",
      "-1\n",
      "t\n",
      "2\n"
     ]
    }
   ],
   "source": [
    "def pre(expr):\n",
    "    print(expr)\n",
    "    for arg in expr.args:\n",
    "        pre(arg)\n",
    "\n",
    "pre(cubic_bezier)"
   ]
  },
  {
   "cell_type": "code",
   "execution_count": 56,
   "id": "e3369f5c-5c81-42a8-ba80-e396caf55988",
   "metadata": {},
   "outputs": [],
   "source": [
    "t = list(cubic_bezier.free_symbols)[1]"
   ]
  },
  {
   "cell_type": "code",
   "execution_count": 57,
   "id": "75618250-60d7-4f16-9720-9546c9ed8453",
   "metadata": {},
   "outputs": [
    {
     "data": {
      "image/png": "[encoded data removed]",
      "text/latex": [
       "$\\displaystyle - 3 p_{0} \\left(1 - t\\right)^{2} + 3 p_{1} t \\left(2 t - 2\\right) + 3 p_{1} \\left(1 - t\\right)^{2} - 3 p_{2} t^{2} + 2 p_{2} t \\left(3 - 3 t\\right) + 3 p_{3} t^{2}$"
      ],
      "text/plain": [
       "              2                                  2         2                            2\n",
       "- 3⋅p₀⋅(1 - t)  + 3⋅p₁⋅t⋅(2⋅t - 2) + 3⋅p₁⋅(1 - t)  - 3⋅p₂⋅t  + 2⋅p₂⋅t⋅(3 - 3⋅t) + 3⋅p₃⋅t "
      ]
     },
     "execution_count": 57,
     "metadata": {},
     "output_type": "execute_result"
    }
   ],
   "source": [
    "diff(cubic_bezier, t)"
   ]
  },
  {
   "cell_type": "code",
   "execution_count": 63,
   "id": "f267815f-3fb2-431e-8f8e-45952b6eead6",
   "metadata": {},
   "outputs": [
    {
     "data": {
      "image/png": "[encoded data removed]",
      "text/latex": [
       "$\\displaystyle \\left\\{\\frac{p_{0} - 2 p_{1} + p_{2}}{p_{0} - 3 p_{1} + 3 p_{2} - p_{3}} - \\frac{\\sqrt{- p_{0} p_{2} + p_{0} p_{3} + p_{1}^{2} - p_{1} p_{2} - p_{1} p_{3} + p_{2}^{2}}}{- p_{0} + 3 p_{1} - 3 p_{2} + p_{3}}, \\frac{p_{0} - 2 p_{1} + p_{2}}{p_{0} - 3 p_{1} + 3 p_{2} - p_{3}} + \\frac{\\sqrt{- p_{0} p_{2} + p_{0} p_{3} + p_{1}^{2} - p_{1} p_{2} - p_{1} p_{3} + p_{2}^{2}}}{- p_{0} + 3 p_{1} - 3 p_{2} + p_{3}}\\right\\}$"
      ],
      "text/plain": [
       "⎧                           ____________________________________________                             ___________________________\n",
       "⎪                          ╱                    2                     2                             ╱                    2      \n",
       "⎨    p₀ - 2⋅p₁ + p₂      ╲╱  -p₀⋅p₂ + p₀⋅p₃ + p₁  - p₁⋅p₂ - p₁⋅p₃ + p₂        p₀ - 2⋅p₁ + p₂      ╲╱  -p₀⋅p₂ + p₀⋅p₃ + p₁  - p₁⋅\n",
       "⎪───────────────────── - ───────────────────────────────────────────────, ───────────────────── + ──────────────────────────────\n",
       "⎩p₀ - 3⋅p₁ + 3⋅p₂ - p₃                -p₀ + 3⋅p₁ - 3⋅p₂ + p₃              p₀ - 3⋅p₁ + 3⋅p₂ - p₃                -p₀ + 3⋅p₁ - 3⋅p₂\n",
       "\n",
       "_________________⎫\n",
       "               2 ⎪\n",
       "p₂ - p₁⋅p₃ + p₂  ⎬\n",
       "─────────────────⎪\n",
       " + p₃            ⎭"
      ]
     },
     "execution_count": 63,
     "metadata": {},
     "output_type": "execute_result"
    }
   ],
   "source": [
    "solveset(diff(cubic_bezier, t), t)"
   ]
  },
  {
   "cell_type": "code",
   "execution_count": null,
   "id": "6ec8c503-9d99-462c-b9c9-81e3f463b08f",
   "metadata": {},
   "outputs": [],
   "source": []
  }
 ],
 "metadata": {
  "kernelspec": {
   "display_name": "bezier_calcs",
   "language": "python",
   "name": "bezier_calcs"
  },
  "language_info": {
   "codemirror_mode": {
    "name": "ipython",
    "version": 3
   },
   "file_extension": ".py",
   "mimetype": "text/x-python",
   "name": "python",
   "nbconvert_exporter": "python",
   "pygments_lexer": "ipython3",
   "version": "3.11.3"
  }
 },
 "nbformat": 4,
 "nbformat_minor": 5
}
