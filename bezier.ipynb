{
 "cells": [
  {
   "cell_type": "code",
   "execution_count": 1,
   "id": "98cec1b4-16ac-407f-beb2-9fee82f1ee64",
   "metadata": {},
   "outputs": [],
   "source": [
    "from sympy import *"
   ]
  },
  {
   "cell_type": "code",
   "execution_count": 2,
   "id": "c22e63a1-4f2a-43b7-b90a-df1ec58b1e80",
   "metadata": {},
   "outputs": [
    {
     "data": {
      "text/latex": [
       "$\\displaystyle 19.0$"
      ],
      "text/plain": [
       "19.0000000000000"
      ]
     },
     "execution_count": 2,
     "metadata": {},
     "output_type": "execute_result"
    }
   ],
   "source": [
    "y = sympify('m*x + b')\n",
    "y.subs({'m': 4, 'b': 7}).evalf(subs={'x': 3})"
   ]
  },
  {
   "cell_type": "code",
   "execution_count": 3,
   "id": "7d415fc3-1197-42b8-91f3-3d8f113073f1",
   "metadata": {},
   "outputs": [
    {
     "data": {
      "text/plain": [
       "[2.00000000000000, 3.00000000000000]"
      ]
     },
     "execution_count": 3,
     "metadata": {},
     "output_type": "execute_result"
    }
   ],
   "source": [
    "sympify('[ 2.0, 3.0 ]')"
   ]
  },
  {
   "cell_type": "code",
   "execution_count": 4,
   "id": "b64bacd8-dbce-446f-901c-e90bbd4d543b",
   "metadata": {},
   "outputs": [
    {
     "data": {
      "text/latex": [
       "$\\displaystyle \\left[\\begin{matrix}2.0\\\\3.0\\end{matrix}\\right]$"
      ],
      "text/plain": [
       "Matrix([\n",
       "[2.0],\n",
       "[3.0]])"
      ]
     },
     "execution_count": 4,
     "metadata": {},
     "output_type": "execute_result"
    }
   ],
   "source": [
    "Matrix([2.0, 3.0])"
   ]
  },
  {
   "cell_type": "code",
   "execution_count": 5,
   "id": "cfcd3521-ae55-44f1-ade2-0d5340f6d5a3",
   "metadata": {},
   "outputs": [
    {
     "data": {
      "text/latex": [
       "$\\displaystyle \\left[\\begin{matrix}2 x + 4\\\\3 x + 7\\end{matrix}\\right]$"
      ],
      "text/plain": [
       "Matrix([\n",
       "[2*x + 4],\n",
       "[3*x + 7]])"
      ]
     },
     "execution_count": 5,
     "metadata": {},
     "output_type": "execute_result"
    }
   ],
   "source": [
    "Ax = y.subs({'m': Matrix([2, 3]), 'b': Matrix([4, 7])})\n",
    "Ax"
   ]
  },
  {
   "cell_type": "code",
   "execution_count": 6,
   "id": "10db0913-9201-49ab-ab64-f41fc06f909a",
   "metadata": {},
   "outputs": [],
   "source": [
    "A = Matrix([ [2, 0] ,[0, 3]])"
   ]
  },
  {
   "cell_type": "code",
   "execution_count": 7,
   "id": "3470752a-a77e-437f-ae7f-229114e3218a",
   "metadata": {},
   "outputs": [],
   "source": [
    "b = Matrix([4, 7])"
   ]
  },
  {
   "cell_type": "code",
   "execution_count": 8,
   "id": "89a70b2d-4880-4880-8f33-72a70c2a1089",
   "metadata": {},
   "outputs": [
    {
     "data": {
      "text/latex": [
       "$\\displaystyle \\left[\\begin{matrix}2\\\\\\frac{7}{3}\\end{matrix}\\right]$"
      ],
      "text/plain": [
       "Matrix([\n",
       "[  2],\n",
       "[7/3]])"
      ]
     },
     "execution_count": 8,
     "metadata": {},
     "output_type": "execute_result"
    }
   ],
   "source": [
    "A.solve(b)"
   ]
  },
  {
   "cell_type": "code",
   "execution_count": 9,
   "id": "11515730-043c-4217-bcf4-fb83d3afadec",
   "metadata": {},
   "outputs": [
    {
     "data": {
      "text/latex": [
       "$\\displaystyle P_{0} t + P_{1} \\cdot \\left(1 - t\\right)$"
      ],
      "text/plain": [
       "P_0*t + P_1*(1 - t)"
      ]
     },
     "execution_count": 9,
     "metadata": {},
     "output_type": "execute_result"
    }
   ],
   "source": [
    "linear_bezier = sympify('t*P_0 + (1 - t) * P_1')\n",
    "linear_bezier"
   ]
  },
  {
   "cell_type": "code",
   "execution_count": 10,
   "id": "1a124e7b-bb9f-4fd6-bc3d-ba6368b18aa6",
   "metadata": {},
   "outputs": [
    {
     "data": {
      "text/latex": [
       "$\\displaystyle \\left[\\begin{matrix}4 - 2 t\\\\7 - 2 t\\end{matrix}\\right]$"
      ],
      "text/plain": [
       "Matrix([\n",
       "[4 - 2*t],\n",
       "[7 - 2*t]])"
      ]
     },
     "execution_count": 10,
     "metadata": {},
     "output_type": "execute_result"
    }
   ],
   "source": [
    "b1 = linear_bezier.subs({'P_0': Matrix([2, 5]), 'P_1': Matrix([4, 7])})\n",
    "b1"
   ]
  },
  {
   "cell_type": "code",
   "execution_count": 11,
   "id": "32d960a1-b933-4c4f-84e5-89f7b9de96ad",
   "metadata": {},
   "outputs": [
    {
     "data": {
      "text/plain": [
       "(4 - 2*t, 7 - 2*t)"
      ]
     },
     "execution_count": 11,
     "metadata": {},
     "output_type": "execute_result"
    }
   ],
   "source": [
    "b1[0], b1[1]"
   ]
  },
  {
   "cell_type": "code",
   "execution_count": 12,
   "id": "ae6ce3e3-25b8-4b63-ba82-e1b8997d47e0",
   "metadata": {},
   "outputs": [],
   "source": [
    "init_printing()"
   ]
  },
  {
   "cell_type": "code",
   "execution_count": 13,
   "id": "abfee5a0-e3ed-4a38-9d8b-204c615f4439",
   "metadata": {
    "tags": []
   },
   "outputs": [
    {
     "name": "stdout",
     "output_type": "stream",
     "text": [
      "(1 - t)**3\n",
      "3*t*(1 - t)**2\n",
      "3*t**2*(1 - t)\n",
      "t**3\n"
     ]
    },
    {
     "data": {
      "image/png": "[encoded data removed]",
      "text/latex": [
       "$\\displaystyle t^{k} \\left(1 - t\\right)^{- k + n} {\\binom{n}{k}}$"
      ],
      "text/plain": [
       " k        -k + n ⎛n⎞\n",
       "t ⋅(1 - t)      ⋅⎜ ⎟\n",
       "                 ⎝k⎠"
      ]
     },
     "execution_count": 13,
     "metadata": {},
     "output_type": "execute_result"
    }
   ],
   "source": [
    "n, k, t = symbols('n k t')\n",
    "\n",
    "bernstein_polynomial = binomial(n, k) * t**k * (1 - t)**(n - k)\n",
    "\n",
    "for k in range(4):\n",
    "    print(bernstein_polynomial.subs({'n': 3, 'k': k}))\n",
    "\n",
    "bernstein_polynomial"
   ]
  },
  {
   "cell_type": "code",
   "execution_count": 14,
   "id": "6c73fa58-03da-4bee-b252-80911c8c780e",
   "metadata": {},
   "outputs": [
    {
     "name": "stdout",
     "output_type": "stream",
     "text": [
      "(1 - t)**3\n",
      "3*t*(1 - t)**2\n",
      "3*t**2*(1 - t)\n",
      "t**3\n"
     ]
    }
   ],
   "source": [
    "cubic_bernstein_polynomial = bernstein_polynomial.subs({'n': 3})\n",
    "\n",
    "def get_cubic_bernstein_polynomial(k):\n",
    "    return cubic_bernstein_polynomial.subs({'k': k})\n",
    "\n",
    "b3 = cubic_bernstein_polynomial\n",
    "\n",
    "for k in range(4):\n",
    "    print(get_cubic_bernstein_polynomial(k))"
   ]
  },
  {
   "cell_type": "code",
   "execution_count": 15,
   "id": "392ef2af-9b84-446d-b82b-a7f910ec0989",
   "metadata": {},
   "outputs": [
    {
     "data": {
      "image/png": "[encoded data removed]",
      "text/latex": [
       "$\\displaystyle \\left[ P_{0}, \\  P_{1}, \\  P_{2}, \\  P_{3}\\right]$"
      ],
      "text/plain": [
       "[P₀, P₁, P₂, P₃]"
      ]
     },
     "execution_count": 15,
     "metadata": {},
     "output_type": "execute_result"
    }
   ],
   "source": [
    "p = [Symbol(f'P_{i}') for i in range(4)]\n",
    "p"
   ]
  },
  {
   "cell_type": "code",
   "execution_count": 16,
   "id": "5f952db6-128f-4fea-a5a3-136cc84f17a3",
   "metadata": {},
   "outputs": [
    {
     "data": {
      "image/png": "[encoded data removed]",
      "text/latex": [
       "$\\displaystyle P_{0} \\left(1 - t\\right)^{3} + 3 P_{1} t \\left(1 - t\\right)^{2} + 3 P_{2} t^{2} \\cdot \\left(1 - t\\right) + P_{3} t^{3}$"
      ],
      "text/plain": [
       "          3                 2         2               3\n",
       "P₀⋅(1 - t)  + 3⋅P₁⋅t⋅(1 - t)  + 3⋅P₂⋅t ⋅(1 - t) + P₃⋅t "
      ]
     },
     "execution_count": 16,
     "metadata": {},
     "output_type": "execute_result"
    }
   ],
   "source": [
    "cubic_bezier = sum([b3.subs({'k': i}) * p[i] for i in range(4)])\n",
    "cubic_bezier"
   ]
  },
  {
   "cell_type": "code",
   "execution_count": 17,
   "id": "03640853-2cd6-49a0-90f4-779c0a70fa0d",
   "metadata": {},
   "outputs": [],
   "source": [
    "from typing import NamedTuple\n",
    "\n",
    "class Point(NamedTuple):\n",
    "    x: float\n",
    "    y: float\n",
    "    \n",
    "    def to_vector(self):\n",
    "        return Matrix([self.x, self.y])"
   ]
  },
  {
   "cell_type": "code",
   "execution_count": 18,
   "id": "1787b86d-f21d-4a2f-bb23-3c99c1c732fd",
   "metadata": {},
   "outputs": [
    {
     "data": {
      "image/png": "[encoded data removed]",
      "text/latex": [
       "$\\displaystyle \\left[ \\left[\\begin{matrix}0\\\\0\\end{matrix}\\right], \\  \\left[\\begin{matrix}-45.0\\\\0\\end{matrix}\\right], \\  \\left[\\begin{matrix}-69.0\\\\-34.0\\end{matrix}\\right], \\  \\left[\\begin{matrix}-69.0\\\\-88.0\\end{matrix}\\right]\\right]$"
      ],
      "text/plain": [
       "⎡⎡0⎤  ⎡-45.0⎤  ⎡-69.0⎤  ⎡-69.0⎤⎤\n",
       "⎢⎢ ⎥, ⎢     ⎥, ⎢     ⎥, ⎢     ⎥⎥\n",
       "⎣⎣0⎦  ⎣  0  ⎦  ⎣-34.0⎦  ⎣-88.0⎦⎦"
      ]
     },
     "execution_count": 18,
     "metadata": {},
     "output_type": "execute_result"
    }
   ],
   "source": [
    "import more_itertools\n",
    "\n",
    "bezier3_control_points_string = '0.0 0.0 -45.0 0.0 -69.0 -34.0 -69.0 -88.0'\n",
    "chunked_points = more_itertools.chunked(\n",
    "                    (float(s)for s in bezier3_control_points_string.split()), 2)\n",
    "control_points = [Point(*chunk) for chunk in chunked_points]\n",
    "control_point_vectors = [pt.to_vector() for pt in control_points]\n",
    "control_point_vectors"
   ]
  },
  {
   "cell_type": "code",
   "execution_count": 19,
   "id": "4ab75d27-8339-4103-ba9c-8ed1c1aedf10",
   "metadata": {
    "tags": []
   },
   "outputs": [
    {
     "data": {
      "text/plain": [
       "{'P_0': Matrix([\n",
       " [0],\n",
       " [0]]),\n",
       " 'P_1': Matrix([\n",
       " [-45.0],\n",
       " [    0]]),\n",
       " 'P_2': Matrix([\n",
       " [-69.0],\n",
       " [-34.0]]),\n",
       " 'P_3': Matrix([\n",
       " [-69.0],\n",
       " [-88.0]])}"
      ]
     },
     "execution_count": 19,
     "metadata": {},
     "output_type": "execute_result"
    }
   ],
   "source": [
    "control_point_subs = {p: x for p, x in zip((f'P_{i}' for i in range(4)), control_point_vectors)}\n",
    "control_point_subs"
   ]
  },
  {
   "cell_type": "code",
   "execution_count": 20,
   "id": "03b518dc-98ee-493f-b74e-2b1eec15d827",
   "metadata": {},
   "outputs": [],
   "source": [
    "d1b = diff(cubic_bezier.subs(control_point_subs), 't')"
   ]
  },
  {
   "cell_type": "code",
   "execution_count": 21,
   "id": "652ada15-701a-4461-a08e-cb10b7817287",
   "metadata": {},
   "outputs": [
    {
     "data": {
      "image/png": "[encoded data removed]",
      "text/latex": [
       "$\\displaystyle \\left[\\begin{matrix}- 414.0 t \\left(1 - t\\right) - 135.0 t \\left(2 t - 2\\right) - 135.0 \\left(1 - t\\right)^{2}\\end{matrix}\\right]$"
      ],
      "text/plain": [
       "⎡                                                    2⎤\n",
       "⎣-414.0⋅t⋅(1 - t) - 135.0⋅t⋅(2⋅t - 2) - 135.0⋅(1 - t) ⎦"
      ]
     },
     "execution_count": 21,
     "metadata": {},
     "output_type": "execute_result"
    }
   ],
   "source": [
    "d1b.row(0).col(0)"
   ]
  },
  {
   "cell_type": "code",
   "execution_count": 22,
   "id": "bcf48042-6d9c-48f6-b357-24805e1c436a",
   "metadata": {},
   "outputs": [
    {
     "data": {
      "image/png": "[encoded data removed]",
      "text/latex": [
       "$\\displaystyle \\left[\\begin{matrix}- 162.0 t^{2} - 204.0 t \\left(1 - t\\right)\\end{matrix}\\right]$"
      ],
      "text/plain": [
       "⎡         2                  ⎤\n",
       "⎣- 162.0⋅t  - 204.0⋅t⋅(1 - t)⎦"
      ]
     },
     "execution_count": 22,
     "metadata": {},
     "output_type": "execute_result"
    }
   ],
   "source": [
    "d1b.row(1)"
   ]
  },
  {
   "cell_type": "code",
   "execution_count": 23,
   "id": "ad4358d6-4d24-4364-96fb-5bb85747fab3",
   "metadata": {},
   "outputs": [
    {
     "data": {
      "image/png": "[encoded data removed]",
      "text/latex": [
       "$\\displaystyle - 414.0 t \\left(1 - t\\right) - 135.0 t \\left(2 t - 2\\right) - 135.0 \\left(1 - t\\right)^{2}$"
      ],
      "text/plain": [
       "                                                    2\n",
       "-414.0⋅t⋅(1 - t) - 135.0⋅t⋅(2⋅t - 2) - 135.0⋅(1 - t) "
      ]
     },
     "execution_count": 23,
     "metadata": {},
     "output_type": "execute_result"
    }
   ],
   "source": [
    "d1b[0]"
   ]
  },
  {
   "cell_type": "code",
   "execution_count": 24,
   "id": "a494f9d1-0bcd-4ce1-aaad-a7ca4abc1b6f",
   "metadata": {},
   "outputs": [
    {
     "data": {
      "image/png": "[encoded data removed]",
      "text/latex": [
       "$\\displaystyle - 162.0 t^{2} - 204.0 t \\left(1 - t\\right)$"
      ],
      "text/plain": [
       "         2                  \n",
       "- 162.0⋅t  - 204.0⋅t⋅(1 - t)"
      ]
     },
     "execution_count": 24,
     "metadata": {},
     "output_type": "execute_result"
    }
   ],
   "source": [
    "d1b[1]"
   ]
  },
  {
   "cell_type": "code",
   "execution_count": 25,
   "id": "33815908-b8e4-4da5-b514-33fa4520f78b",
   "metadata": {},
   "outputs": [
    {
     "data": {
      "image/png": "[encoded data removed]",
      "text/latex": [
       "$\\displaystyle \\left( \\left[ -15.0, \\  1.0\\right], \\  \\left[ 0.0, \\  4.85714285714286\\right]\\right)$"
      ],
      "text/plain": [
       "([-15.0, 1.0], [0.0, 4.85714285714286])"
      ]
     },
     "execution_count": 25,
     "metadata": {},
     "output_type": "execute_result"
    }
   ],
   "source": [
    "solve(d1b[0]), solve(d1b[1])"
   ]
  },
  {
   "cell_type": "code",
   "execution_count": 26,
   "id": "fba96d14-ffa3-4df0-8201-bb632b3aba7a",
   "metadata": {},
   "outputs": [
    {
     "data": {
      "image/png": "[encoded data removed]",
      "text/latex": [
       "$\\displaystyle \\left[\\begin{matrix}-69.0\\\\-88.0\\end{matrix}\\right]$"
      ],
      "text/plain": [
       "⎡-69.0⎤\n",
       "⎢     ⎥\n",
       "⎣-88.0⎦"
      ]
     },
     "execution_count": 26,
     "metadata": {},
     "output_type": "execute_result"
    }
   ],
   "source": [
    "cubic_bezier.subs(control_point_subs).subs({'t': 1})"
   ]
  },
  {
   "cell_type": "code",
   "execution_count": 27,
   "id": "cc2174cf-bd40-473f-ab93-eb9bae3fd2da",
   "metadata": {},
   "outputs": [
    {
     "data": {
      "image/png": "[encoded data removed]",
      "text/latex": [
       "$\\displaystyle \\left[\\begin{matrix}t \\left(3.0 t^{2} + 63.0 t - 135.0\\right)\\\\t^{2} \\cdot \\left(14.0 t - 102.0\\right)\\end{matrix}\\right]$"
      ],
      "text/plain": [
       "⎡  ⎛     2                 ⎞⎤\n",
       "⎢t⋅⎝3.0⋅t  + 63.0⋅t - 135.0⎠⎥\n",
       "⎢                           ⎥\n",
       "⎢     2                     ⎥\n",
       "⎣    t ⋅(14.0⋅t - 102.0)    ⎦"
      ]
     },
     "execution_count": 27,
     "metadata": {},
     "output_type": "execute_result"
    }
   ],
   "source": [
    "current_bezier = simplify(cubic_bezier.subs(control_point_subs))\n",
    "current_bezier"
   ]
  },
  {
   "cell_type": "code",
   "execution_count": 28,
   "id": "a5abd0c2-0d91-4270-bdba-13d0a6d2cd49",
   "metadata": {},
   "outputs": [
    {
     "data": {
      "image/png": "[encoded data removed]",
      "text/plain": [
       "<Figure size 640x480 with 1 Axes>"
      ]
     },
     "metadata": {},
     "output_type": "display_data"
    },
    {
     "data": {
      "text/plain": [
       "<sympy.plotting.plot.Plot at 0x10c460ad0>"
      ]
     },
     "execution_count": 28,
     "metadata": {},
     "output_type": "execute_result"
    }
   ],
   "source": [
    "plot_parametric(current_bezier[0], current_bezier[1], ('t', 0, 1))"
   ]
  },
  {
   "cell_type": "code",
   "execution_count": 29,
   "id": "f86d9c33-78c8-448d-a6e3-3d73f0fab46d",
   "metadata": {},
   "outputs": [
    {
     "data": {
      "image/png": "[encoded data removed]",
      "text/plain": [
       "<Figure size 640x480 with 1 Axes>"
      ]
     },
     "metadata": {},
     "output_type": "display_data"
    }
   ],
   "source": [
    "y = symbols('y')\n",
    "p1 = plot_parametric(current_bezier[0], current_bezier[1], ('t', 0, 1), show=False)\n",
    "p2 = plot_parametric(-69, y, (y, -100, 0), show=False)\n",
    "p1.append(p2[0])\n",
    "p1.show()"
   ]
  },
  {
   "cell_type": "code",
   "execution_count": 30,
   "id": "5a0cc728-214c-4d9c-a586-515c2fffeb5f",
   "metadata": {},
   "outputs": [
    {
     "data": {
      "image/png": "[encoded data removed]",
      "text/plain": [
       "<Figure size 640x480 with 1 Axes>"
      ]
     },
     "metadata": {},
     "output_type": "display_data"
    }
   ],
   "source": [
    "x, y = symbols('x y')\n",
    "p1 = plot(x + 3, (x, -10, 50), show=False)\n",
    "p2 = plot(10, (y, -10, 50), show=False, line_color='red')\n",
    "p1.append(p2[0])\n",
    "p1.show()"
   ]
  },
  {
   "cell_type": "code",
   "execution_count": null,
   "id": "a684e774-b907-4205-8f49-bc0af0dd5f6e",
   "metadata": {},
   "outputs": [],
   "source": []
  }
 ],
 "metadata": {
  "kernelspec": {
   "display_name": "bezier_calcs",
   "language": "python",
   "name": "bezier_calcs"
  },
  "language_info": {
   "codemirror_mode": {
    "name": "ipython",
    "version": 3
   },
   "file_extension": ".py",
   "mimetype": "text/x-python",
   "name": "python",
   "nbconvert_exporter": "python",
   "pygments_lexer": "ipython3",
   "version": "3.11.3"
  }
 },
 "nbformat": 4,
 "nbformat_minor": 5
}
