{
 "cells": [
  {
   "cell_type": "code",
   "execution_count": 1,
   "id": "98cec1b4-16ac-407f-beb2-9fee82f1ee64",
   "metadata": {},
   "outputs": [],
   "source": [
    "from pprint import pprint\n",
    "from sympy import *"
   ]
  },
  {
   "cell_type": "code",
   "execution_count": 2,
   "id": "9d0cb3fa-ec18-4314-a4e9-5eed04b8253e",
   "metadata": {},
   "outputs": [],
   "source": [
    "init_printing()"
   ]
  },
  {
   "cell_type": "code",
   "execution_count": 3,
   "id": "c22e63a1-4f2a-43b7-b90a-df1ec58b1e80",
   "metadata": {},
   "outputs": [
    {
     "data": {
      "image/png": "[encoded data removed]",
      "text/latex": [
       "$\\displaystyle 19.0$"
      ],
      "text/plain": [
       "19.0000000000000"
      ]
     },
     "execution_count": 3,
     "metadata": {},
     "output_type": "execute_result"
    }
   ],
   "source": [
    "y = sympify('m*x + b')\n",
    "y.subs({'m': 4, 'b': 7}).evalf(subs={'x': 3})"
   ]
  },
  {
   "cell_type": "code",
   "execution_count": 4,
   "id": "cfcd3521-ae55-44f1-ade2-0d5340f6d5a3",
   "metadata": {},
   "outputs": [
    {
     "data": {
      "image/png": "[encoded data removed]",
      "text/latex": [
       "$\\displaystyle \\left[\\begin{matrix}2 x + 4\\\\3 x + 7\\end{matrix}\\right]$"
      ],
      "text/plain": [
       "⎡2⋅x + 4⎤\n",
       "⎢       ⎥\n",
       "⎣3⋅x + 7⎦"
      ]
     },
     "execution_count": 4,
     "metadata": {},
     "output_type": "execute_result"
    }
   ],
   "source": [
    "Ax = y.subs({'m': Matrix([2, 3]), 'b': Matrix([4, 7])})\n",
    "Ax"
   ]
  },
  {
   "cell_type": "code",
   "execution_count": 5,
   "id": "f30baa05-e2c5-4cad-a98b-479b4b1bc369",
   "metadata": {},
   "outputs": [
    {
     "data": {
      "image/png": "[encoded data removed]",
      "text/latex": [
       "$\\displaystyle \\left( \\left[\\begin{matrix}2 & 0\\\\0 & 3\\end{matrix}\\right], \\  \\left[\\begin{matrix}4\\\\7\\end{matrix}\\right]\\right)$"
      ],
      "text/plain": [
       "⎛⎡2  0⎤  ⎡4⎤⎞\n",
       "⎜⎢    ⎥, ⎢ ⎥⎟\n",
       "⎝⎣0  3⎦  ⎣7⎦⎠"
      ]
     },
     "execution_count": 5,
     "metadata": {},
     "output_type": "execute_result"
    }
   ],
   "source": [
    "A = Matrix([[2, 0] ,[0, 3]])\n",
    "b = Matrix([4, 7])\n",
    "A, b"
   ]
  },
  {
   "cell_type": "code",
   "execution_count": 6,
   "id": "89a70b2d-4880-4880-8f33-72a70c2a1089",
   "metadata": {},
   "outputs": [
    {
     "data": {
      "image/png": "[encoded data removed]",
      "text/latex": [
       "$\\displaystyle \\left[\\begin{matrix}2\\\\\\frac{7}{3}\\end{matrix}\\right]$"
      ],
      "text/plain": [
       "⎡ 2 ⎤\n",
       "⎢   ⎥\n",
       "⎣7/3⎦"
      ]
     },
     "execution_count": 6,
     "metadata": {},
     "output_type": "execute_result"
    }
   ],
   "source": [
    "A.solve(b)"
   ]
  },
  {
   "cell_type": "code",
   "execution_count": 7,
   "id": "11515730-043c-4217-bcf4-fb83d3afadec",
   "metadata": {},
   "outputs": [
    {
     "data": {
      "image/png": "[encoded data removed]",
      "text/latex": [
       "$\\displaystyle P_{0} t + P_{1} \\cdot \\left(1 - t\\right)$"
      ],
      "text/plain": [
       "P₀⋅t + P₁⋅(1 - t)"
      ]
     },
     "execution_count": 7,
     "metadata": {},
     "output_type": "execute_result"
    }
   ],
   "source": [
    "linear_bezier = sympify('t*P_0 + (1 - t) * P_1')\n",
    "linear_bezier"
   ]
  },
  {
   "cell_type": "code",
   "execution_count": 8,
   "id": "1a124e7b-bb9f-4fd6-bc3d-ba6368b18aa6",
   "metadata": {},
   "outputs": [
    {
     "data": {
      "image/png": "[encoded data removed]",
      "text/latex": [
       "$\\displaystyle \\left[\\begin{matrix}4 - 2 t\\\\7 - 2 t\\end{matrix}\\right]$"
      ],
      "text/plain": [
       "⎡4 - 2⋅t⎤\n",
       "⎢       ⎥\n",
       "⎣7 - 2⋅t⎦"
      ]
     },
     "execution_count": 8,
     "metadata": {},
     "output_type": "execute_result"
    }
   ],
   "source": [
    "b1 = linear_bezier.subs({'P_0': Matrix([2, 5]), 'P_1': Matrix([4, 7])})\n",
    "b1"
   ]
  },
  {
   "cell_type": "code",
   "execution_count": 9,
   "id": "32d960a1-b933-4c4f-84e5-89f7b9de96ad",
   "metadata": {},
   "outputs": [
    {
     "data": {
      "image/png": "[encoded data removed]",
      "text/latex": [
       "$\\displaystyle \\left( 4 - 2 t, \\  7 - 2 t\\right)$"
      ],
      "text/plain": [
       "(4 - 2⋅t, 7 - 2⋅t)"
      ]
     },
     "execution_count": 9,
     "metadata": {},
     "output_type": "execute_result"
    }
   ],
   "source": [
    "b1[0], b1[1]"
   ]
  },
  {
   "cell_type": "code",
   "execution_count": 10,
   "id": "a8683be4-6f57-4255-9987-bdd49f331d20",
   "metadata": {},
   "outputs": [
    {
     "data": {
      "image/png": "[encoded data removed]",
      "text/latex": [
       "$\\displaystyle t^{k} \\left(1 - t\\right)^{- k + n} {\\binom{n}{k}}$"
      ],
      "text/plain": [
       " k        -k + n ⎛n⎞\n",
       "t ⋅(1 - t)      ⋅⎜ ⎟\n",
       "                 ⎝k⎠"
      ]
     },
     "execution_count": 10,
     "metadata": {},
     "output_type": "execute_result"
    }
   ],
   "source": [
    "bernstein_polynomial = sympify('binomial(n, k) * t**k * (1 - t)**(n - k)')\n",
    "bernstein_polynomial"
   ]
  },
  {
   "cell_type": "code",
   "execution_count": 11,
   "id": "abfee5a0-e3ed-4a38-9d8b-204c615f4439",
   "metadata": {
    "tags": []
   },
   "outputs": [
    {
     "name": "stdout",
     "output_type": "stream",
     "text": [
      "P_0 = (1 - t)**3\n",
      "P_1 = 3*t*(1 - t)**2\n",
      "P_2 = 3*t**2*(1 - t)\n",
      "P_3 = t**3\n"
     ]
    }
   ],
   "source": [
    "for k in range(4):\n",
    "    print(f\"P_{k} = {bernstein_polynomial.subs({'n': 3, 'k': k})}\")"
   ]
  },
  {
   "cell_type": "code",
   "execution_count": 12,
   "id": "5ad2e022-fabf-42d9-92a9-646a2cd353ad",
   "metadata": {},
   "outputs": [
    {
     "data": {
      "image/png": "[encoded data removed]",
      "text/latex": [
       "$\\displaystyle t^{k} \\left(1 - t\\right)^{3 - k} {\\binom{3}{k}}$"
      ],
      "text/plain": [
       " k        3 - k ⎛3⎞\n",
       "t ⋅(1 - t)     ⋅⎜ ⎟\n",
       "                ⎝k⎠"
      ]
     },
     "execution_count": 12,
     "metadata": {},
     "output_type": "execute_result"
    }
   ],
   "source": [
    "cubic_bernstein_polynomial = bernstein_polynomial.subs({'n': 3})\n",
    "b3 = cubic_bernstein_polynomial\n",
    "b3"
   ]
  },
  {
   "cell_type": "code",
   "execution_count": 13,
   "id": "3c86cf50-5b2f-4ed4-9304-c4eb259e6b13",
   "metadata": {},
   "outputs": [
    {
     "name": "stdout",
     "output_type": "stream",
     "text": [
      "P_0 = (1 - t)**3\n",
      "P_1 = 3*t*(1 - t)**2\n",
      "P_2 = 3*t**2*(1 - t)\n",
      "P_3 = t**3\n"
     ]
    }
   ],
   "source": [
    "def get_cubic_bernstein_polynomial(k):\n",
    "    return b3.subs({'k': k})\n",
    "\n",
    "for k in range(4):\n",
    "    print(f'P_{k} = {get_cubic_bernstein_polynomial(k)}')"
   ]
  },
  {
   "cell_type": "code",
   "execution_count": 14,
   "id": "392ef2af-9b84-446d-b82b-a7f910ec0989",
   "metadata": {},
   "outputs": [
    {
     "data": {
      "image/png": "[encoded data removed]",
      "text/latex": [
       "$\\displaystyle \\left[ P_{0}, \\  P_{1}, \\  P_{2}, \\  P_{3}\\right]$"
      ],
      "text/plain": [
       "[P₀, P₁, P₂, P₃]"
      ]
     },
     "execution_count": 14,
     "metadata": {},
     "output_type": "execute_result"
    }
   ],
   "source": [
    "p = [Symbol(f'P_{i}') for i in range(4)]\n",
    "p"
   ]
  },
  {
   "cell_type": "code",
   "execution_count": 15,
   "id": "5f952db6-128f-4fea-a5a3-136cc84f17a3",
   "metadata": {},
   "outputs": [
    {
     "data": {
      "image/png": "[encoded data removed]",
      "text/latex": [
       "$\\displaystyle P_{0} \\left(1 - t\\right)^{3} + 3 P_{1} t \\left(1 - t\\right)^{2} + 3 P_{2} t^{2} \\cdot \\left(1 - t\\right) + P_{3} t^{3}$"
      ],
      "text/plain": [
       "          3                 2         2               3\n",
       "P₀⋅(1 - t)  + 3⋅P₁⋅t⋅(1 - t)  + 3⋅P₂⋅t ⋅(1 - t) + P₃⋅t "
      ]
     },
     "execution_count": 15,
     "metadata": {},
     "output_type": "execute_result"
    }
   ],
   "source": [
    "cubic_bezier = sum([b3.subs({'k': i}) * p[i] for i in range(4)])\n",
    "cubic_bezier"
   ]
  },
  {
   "cell_type": "code",
   "execution_count": 16,
   "id": "03640853-2cd6-49a0-90f4-779c0a70fa0d",
   "metadata": {},
   "outputs": [],
   "source": [
    "from typing import NamedTuple\n",
    "\n",
    "class Point(NamedTuple):\n",
    "    x: float\n",
    "    y: float\n",
    "    \n",
    "    def to_vector(self):\n",
    "        return Matrix([self.x, self.y])"
   ]
  },
  {
   "cell_type": "code",
   "execution_count": 17,
   "id": "1787b86d-f21d-4a2f-bb23-3c99c1c732fd",
   "metadata": {},
   "outputs": [
    {
     "data": {
      "image/png": "[encoded data removed]",
      "text/latex": [
       "$\\displaystyle \\left[ \\left[\\begin{matrix}0\\\\0\\end{matrix}\\right], \\  \\left[\\begin{matrix}-45.0\\\\0\\end{matrix}\\right], \\  \\left[\\begin{matrix}-69.0\\\\-34.0\\end{matrix}\\right], \\  \\left[\\begin{matrix}-69.0\\\\-88.0\\end{matrix}\\right]\\right]$"
      ],
      "text/plain": [
       "⎡⎡0⎤  ⎡-45.0⎤  ⎡-69.0⎤  ⎡-69.0⎤⎤\n",
       "⎢⎢ ⎥, ⎢     ⎥, ⎢     ⎥, ⎢     ⎥⎥\n",
       "⎣⎣0⎦  ⎣  0  ⎦  ⎣-34.0⎦  ⎣-88.0⎦⎦"
      ]
     },
     "execution_count": 17,
     "metadata": {},
     "output_type": "execute_result"
    }
   ],
   "source": [
    "import more_itertools\n",
    "\n",
    "bezier3_control_points_string = '0.0 0.0 -45.0 0.0 -69.0 -34.0 -69.0 -88.0'\n",
    "chunked_points = more_itertools.chunked(\n",
    "                    (float(s)for s in bezier3_control_points_string.split()), 2)\n",
    "control_points = [Point(*chunk) for chunk in chunked_points]\n",
    "control_point_vectors = [pt.to_vector() for pt in control_points]\n",
    "control_point_vectors"
   ]
  },
  {
   "cell_type": "code",
   "execution_count": 34,
   "id": "16afe199-5cba-4c50-a179-67e62ea49524",
   "metadata": {
    "tags": []
   },
   "outputs": [
    {
     "name": "stdout",
     "output_type": "stream",
     "text": [
      "P_0: Matrix([[0], [0]])\n",
      "P_1: Matrix([[-45.0000000000000], [0]])\n",
      "P_2: Matrix([[-69.0000000000000], [-34.0000000000000]])\n",
      "P_3: Matrix([[-69.0000000000000], [-88.0000000000000]])\n"
     ]
    }
   ],
   "source": [
    "control_point_subs = {p: x for p, x in zip((f'P_{i}' for i in range(4)), control_point_vectors)}\n",
    "\n",
    "for key, value in control_point_subs.items():\n",
    "    print(f'{key}: {value}')"
   ]
  },
  {
   "cell_type": "code",
   "execution_count": 40,
   "id": "ba071bb5-d49e-4e66-9298-049b83447fb8",
   "metadata": {},
   "outputs": [
    {
     "data": {
      "image/png": "[encoded data removed]",
      "text/latex": [
       "$\\displaystyle \\left[\\begin{matrix}- 414.0 t \\left(1 - t\\right) - 135.0 t \\left(2 t - 2\\right) - 135.0 \\left(1 - t\\right)^{2}\\end{matrix}\\right]$"
      ],
      "text/plain": [
       "⎡                                                    2⎤\n",
       "⎣-414.0⋅t⋅(1 - t) - 135.0⋅t⋅(2⋅t - 2) - 135.0⋅(1 - t) ⎦"
      ]
     },
     "execution_count": 40,
     "metadata": {},
     "output_type": "execute_result"
    }
   ],
   "source": [
    "# Find the first derivative of the cubic bezier curve\n",
    "d1b = diff(cubic_bezier.subs(control_point_subs), 't')\n",
    "\n",
    "d1b.row(0).col(0)"
   ]
  },
  {
   "cell_type": "code",
   "execution_count": 21,
   "id": "bcf48042-6d9c-48f6-b357-24805e1c436a",
   "metadata": {},
   "outputs": [
    {
     "data": {
      "image/png": "[encoded data removed]",
      "text/latex": [
       "$\\displaystyle \\left[\\begin{matrix}- 162.0 t^{2} - 204.0 t \\left(1 - t\\right)\\end{matrix}\\right]$"
      ],
      "text/plain": [
       "⎡         2                  ⎤\n",
       "⎣- 162.0⋅t  - 204.0⋅t⋅(1 - t)⎦"
      ]
     },
     "execution_count": 21,
     "metadata": {},
     "output_type": "execute_result"
    }
   ],
   "source": [
    "d1b.row(1)"
   ]
  },
  {
   "cell_type": "code",
   "execution_count": 22,
   "id": "ad4358d6-4d24-4364-96fb-5bb85747fab3",
   "metadata": {},
   "outputs": [
    {
     "data": {
      "image/png": "[encoded data removed]",
      "text/latex": [
       "$\\displaystyle - 414.0 t \\left(1 - t\\right) - 135.0 t \\left(2 t - 2\\right) - 135.0 \\left(1 - t\\right)^{2}$"
      ],
      "text/plain": [
       "                                                    2\n",
       "-414.0⋅t⋅(1 - t) - 135.0⋅t⋅(2⋅t - 2) - 135.0⋅(1 - t) "
      ]
     },
     "execution_count": 22,
     "metadata": {},
     "output_type": "execute_result"
    }
   ],
   "source": [
    "d1b[0]"
   ]
  },
  {
   "cell_type": "code",
   "execution_count": 23,
   "id": "a494f9d1-0bcd-4ce1-aaad-a7ca4abc1b6f",
   "metadata": {},
   "outputs": [
    {
     "data": {
      "image/png": "[encoded data removed]",
      "text/latex": [
       "$\\displaystyle - 162.0 t^{2} - 204.0 t \\left(1 - t\\right)$"
      ],
      "text/plain": [
       "         2                  \n",
       "- 162.0⋅t  - 204.0⋅t⋅(1 - t)"
      ]
     },
     "execution_count": 23,
     "metadata": {},
     "output_type": "execute_result"
    }
   ],
   "source": [
    "d1b[1]"
   ]
  },
  {
   "cell_type": "code",
   "execution_count": 41,
   "id": "33815908-b8e4-4da5-b514-33fa4520f78b",
   "metadata": {},
   "outputs": [
    {
     "data": {
      "image/png": "[encoded data removed]",
      "text/latex": [
       "$\\displaystyle \\left( \\left[ -15.0, \\  1.0\\right], \\  \\left[ 0.0, \\  4.85714285714286\\right]\\right)$"
      ],
      "text/plain": [
       "([-15.0, 1.0], [0.0, 4.85714285714286])"
      ]
     },
     "execution_count": 41,
     "metadata": {},
     "output_type": "execute_result"
    }
   ],
   "source": [
    "# Find the roots of each of the equations \n",
    "# (to determine the extrema of the cubic bezier)\n",
    "\n",
    "solve(d1b[0]), solve(d1b[1])"
   ]
  },
  {
   "cell_type": "code",
   "execution_count": 25,
   "id": "fba96d14-ffa3-4df0-8201-bb632b3aba7a",
   "metadata": {},
   "outputs": [
    {
     "data": {
      "image/png": "[encoded data removed]",
      "text/latex": [
       "$\\displaystyle \\left[\\begin{matrix}-69.0\\\\-88.0\\end{matrix}\\right]$"
      ],
      "text/plain": [
       "⎡-69.0⎤\n",
       "⎢     ⎥\n",
       "⎣-88.0⎦"
      ]
     },
     "execution_count": 25,
     "metadata": {},
     "output_type": "execute_result"
    }
   ],
   "source": [
    "cubic_bezier.subs(control_point_subs).subs({'t': 1})"
   ]
  },
  {
   "cell_type": "code",
   "execution_count": 26,
   "id": "cc2174cf-bd40-473f-ab93-eb9bae3fd2da",
   "metadata": {},
   "outputs": [
    {
     "data": {
      "image/png": "[encoded data removed]",
      "text/latex": [
       "$\\displaystyle \\left[\\begin{matrix}t \\left(3.0 t^{2} + 63.0 t - 135.0\\right)\\\\t^{2} \\cdot \\left(14.0 t - 102.0\\right)\\end{matrix}\\right]$"
      ],
      "text/plain": [
       "⎡  ⎛     2                 ⎞⎤\n",
       "⎢t⋅⎝3.0⋅t  + 63.0⋅t - 135.0⎠⎥\n",
       "⎢                           ⎥\n",
       "⎢     2                     ⎥\n",
       "⎣    t ⋅(14.0⋅t - 102.0)    ⎦"
      ]
     },
     "execution_count": 26,
     "metadata": {},
     "output_type": "execute_result"
    }
   ],
   "source": [
    "current_bezier = simplify(cubic_bezier.subs(control_point_subs))\n",
    "current_bezier"
   ]
  },
  {
   "cell_type": "code",
   "execution_count": 27,
   "id": "a5abd0c2-0d91-4270-bdba-13d0a6d2cd49",
   "metadata": {},
   "outputs": [
    {
     "data": {
      "image/png": "[encoded data removed]",
      "text/plain": [
       "<Figure size 640x480 with 1 Axes>"
      ]
     },
     "metadata": {},
     "output_type": "display_data"
    },
    {
     "data": {
      "text/plain": [
       "<sympy.plotting.plot.Plot at 0x107fda2d0>"
      ]
     },
     "execution_count": 27,
     "metadata": {},
     "output_type": "execute_result"
    }
   ],
   "source": [
    "plot_parametric(current_bezier[0], current_bezier[1], ('t', 0, 1))"
   ]
  },
  {
   "cell_type": "code",
   "execution_count": 28,
   "id": "f86d9c33-78c8-448d-a6e3-3d73f0fab46d",
   "metadata": {},
   "outputs": [
    {
     "data": {
      "image/png": "[encoded data removed]",
      "text/plain": [
       "<Figure size 640x480 with 1 Axes>"
      ]
     },
     "metadata": {},
     "output_type": "display_data"
    }
   ],
   "source": [
    "y = symbols('y')\n",
    "p1 = plot_parametric(current_bezier[0], current_bezier[1], ('t', 0, 1), show=False)\n",
    "p2 = plot_parametric(-69, y, (y, -100, 0), show=False)\n",
    "p1.append(p2[0])\n",
    "p1.show()"
   ]
  },
  {
   "cell_type": "code",
   "execution_count": 29,
   "id": "5a0cc728-214c-4d9c-a586-515c2fffeb5f",
   "metadata": {},
   "outputs": [
    {
     "data": {
      "image/png": "[encoded data removed]",
      "text/plain": [
       "<Figure size 640x480 with 1 Axes>"
      ]
     },
     "metadata": {},
     "output_type": "display_data"
    }
   ],
   "source": [
    "x, y = symbols('x y')\n",
    "p1 = plot(x + 3, (x, -10, 50), show=False)\n",
    "p2 = plot(10, (y, -10, 50), show=False, line_color='red')\n",
    "p1.append(p2[0])\n",
    "p1.show()"
   ]
  },
  {
   "cell_type": "code",
   "execution_count": 30,
   "id": "46b47bfc-33f1-451e-a5a6-20e635ee06a9",
   "metadata": {},
   "outputs": [],
   "source": [
    "from lxml import etree"
   ]
  },
  {
   "cell_type": "code",
   "execution_count": 31,
   "id": "3a000317-c5fd-4a76-b06c-87f470ff00f5",
   "metadata": {},
   "outputs": [
    {
     "data": {
      "text/plain": [
       "[{'command': 'M', 'points': [218.0, 136.0]},\n",
       " {'command': 'c', 'points': [66.0, 0.0, 108.0, -36.0, 108.0, -89.0]},\n",
       " {'command': 'c', 'points': [0.0, -89.0, -113.0, -183.0, -218.0, -183.0]},\n",
       " {'command': 'c', 'points': [-66.0, 0.0, -108.0, 36.0, -108.0, 89.0]},\n",
       " {'command': 'c', 'points': [0.0, 89.0, 113.0, 183.0, 218.0, 183.0]}]"
      ]
     },
     "execution_count": 31,
     "metadata": {},
     "output_type": "execute_result"
    }
   ],
   "source": [
    "lines = \"\"\"M 218 136\n",
    "        c 66 0 108 -36 108 -89\n",
    "        c 0 -89 -113 -183 -218 -183\n",
    "        c -66 0 -108 36 -108 89\n",
    "        c 0 89 113 183 218 183\"\"\".splitlines()\n",
    "\n",
    "lines = (line.strip() for line in lines)\n",
    "command_dicts = (line.split() for line in lines)\n",
    "command_dicts = [{'command': d[0], \n",
    "            'points':[float(s) for s in d[1:]]} for d in command_dicts]\n",
    "command_dicts"
   ]
  },
  {
   "cell_type": "code",
   "execution_count": 32,
   "id": "5358054e-3382-4f3d-af9d-e90e6b4244b5",
   "metadata": {},
   "outputs": [
    {
     "data": {
      "text/plain": [
       "[Command(command=M,\n",
       "         points=[Point(x=218.0, y=136.0)]),\n",
       " Command(command=c,\n",
       "         points=[Point(x=66.0, y=0.0),\n",
       "                 Point(x=108.0, y=-36.0),\n",
       "                 Point(x=108.0, y=-89.0)]),\n",
       " Command(command=c,\n",
       "         points=[Point(x=0.0, y=-89.0),\n",
       "                 Point(x=-113.0, y=-183.0),\n",
       "                 Point(x=-218.0, y=-183.0)]),\n",
       " Command(command=c,\n",
       "         points=[Point(x=-66.0, y=0.0),\n",
       "                 Point(x=-108.0, y=36.0),\n",
       "                 Point(x=-108.0, y=89.0)]),\n",
       " Command(command=c,\n",
       "         points=[Point(x=0.0, y=89.0),\n",
       "                 Point(x=113.0, y=183.0),\n",
       "                 Point(x=218.0, y=183.0)])]"
      ]
     },
     "execution_count": 32,
     "metadata": {},
     "output_type": "execute_result"
    }
   ],
   "source": [
    "from io import StringIO\n",
    "from functools import partial\n",
    "\n",
    "class Point(NamedTuple):\n",
    "    x: float\n",
    "    y: float\n",
    "\n",
    "\n",
    "class Command(NamedTuple):\n",
    "    command: str\n",
    "    points: list\n",
    "    \n",
    "    def __repr__(self):\n",
    "        type_name = type(self).__name__\n",
    "        leading_space = (len(type_name) + 1) * ' '\n",
    "        leading_space_points = f'{leading_space}        '\n",
    "        \n",
    "        with StringIO() as sp:\n",
    "            prints = partial(print, file=sp)\n",
    "            prints(f'{type_name}(command={self.command}', end='')\n",
    "            match len(self.points):\n",
    "                case 0:\n",
    "                    prints(')')\n",
    "                case 1:\n",
    "                    prints(f',\\n{leading_space}points=[{self.points[0]}])')\n",
    "                case _:\n",
    "                    prints(f',\\n{leading_space}points=[{self.points[0]},')\n",
    "                    for point in self.points[1:-1]:\n",
    "                        prints(f'{leading_space_points}{point},')\n",
    "                    prints(f'{leading_space_points}{self.points[-1]}])')\n",
    "            return sp.getvalue()           \n",
    "    \n",
    "def chunk_points(points):\n",
    "    return more_itertools.chunked(points, 2)\n",
    "\n",
    "def points_as_pairs(chunked_points):\n",
    "    return [Point(*tuple(p)) for p in chunked_points]\n",
    "\n",
    "def get_commands(command_dicts):\n",
    "    for d in command_dicts:\n",
    "        chunked_points = list(chunk_points(d['points']))\n",
    "        yield Command(command=d['command'], \n",
    "                      points=points_as_pairs(chunked_points))\n",
    "    \n",
    "commands = list(get_commands(command_dicts))\n",
    "commands"
   ]
  },
  {
   "cell_type": "code",
   "execution_count": null,
   "id": "ce3beb17-d62a-491c-9b18-3a065c19deea",
   "metadata": {},
   "outputs": [],
   "source": []
  }
 ],
 "metadata": {
  "kernelspec": {
   "display_name": "bezier_calcs",
   "language": "python",
   "name": "bezier_calcs"
  },
  "language_info": {
   "codemirror_mode": {
    "name": "ipython",
    "version": 3
   },
   "file_extension": ".py",
   "mimetype": "text/x-python",
   "name": "python",
   "nbconvert_exporter": "python",
   "pygments_lexer": "ipython3",
   "version": "3.11.3"
  }
 },
 "nbformat": 4,
 "nbformat_minor": 5
}
