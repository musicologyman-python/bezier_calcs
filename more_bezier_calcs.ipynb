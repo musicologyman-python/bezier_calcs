{
 "cells": [
  {
   "cell_type": "code",
   "execution_count": 1,
   "id": "31c69cca-da93-45c4-bdf1-0fb2a89394cf",
   "metadata": {},
   "outputs": [],
   "source": [
    "import io\n",
    "\n",
    "from collections.abc import Generator, Iterator\n",
    "from functools import partial\n",
    "from itertools import chain, pairwise\n",
    "from pprint import pprint\n",
    "\n",
    "import lxml.etree as etree\n",
    "import pyperclip\n",
    "import regex\n",
    "\n",
    "from more_itertools import chunked\n",
    "\n",
    "from toolz.functoolz import compose_left, curry, pipe\n",
    "from toolz import curried\n"
   ]
  },
  {
   "cell_type": "code",
   "execution_count": 2,
   "id": "a706c649-467f-4546-a334-bec97191a66b",
   "metadata": {},
   "outputs": [],
   "source": [
    "NSMAP = { None: 'http://www.w3.org/2000/svg', \n",
    "         'xlink': 'http://www.w3.org/1999/xlink' }\n",
    "\n",
    "COMMAND_RE = regex.compile(r'''(?ix)(?P<command>[clmsvz])\n",
    "                               (\\s+(?P<arg>-?\\d+(\\.d+)?))*''')\n",
    "\n",
    "def get_element_string(e):\n",
    "    return etree.tostring(e, pretty_print=True).decode('utf-8')\n",
    "\n",
    "print_element = compose_left(get_element_string, print)\n",
    "\n",
    "def parse_path_def(path_def):\n",
    "    for m in COMMAND_RE.finditer(path_def):\n",
    "        d = m.capturesdict()\n",
    "        command = d['command'][0]\n",
    "        args = d['arg']\n",
    "        if args:\n",
    "            yield {'command': command,\n",
    "                    'args': pipe(args, \n",
    "                                 curried.map(float),\n",
    "                                 lambda seq: chunked(seq, 2),\n",
    "                                 curried.map(tuple),\n",
    "                                 list)}\n",
    "        else:\n",
    "            yield {'command': command}\n",
    "                \n",
    "\n",
    "def print_path_attribute(e, leader=' '*4, level=1):\n",
    "    with io.StringIO() as sp:\n",
    "        prints = curry(print, file=sp)\n",
    "        prints(f'{leader}<path', end=' ')\n",
    "        if 'transform' in e.attrib:\n",
    "            prints(f'transform=', end='')\n",
    "            prints(f'\"{transform}\"')\n",
    "            prints(f'{leader * (level + 1)}d=\"', end='')\n",
    "        return sp.getvalue()\n",
    "            \n",
    "def read_templates(filename='./svg/notes_only_formatted.svg'):\n",
    "    root = etree.parse(filename).getroot()\n",
    "    return root.findall('.//defs/g', NSMAP)\n",
    "\n",
    "def print_templates(templates):   \n",
    "    for template in templates:\n",
    "        print_element(template)\n",
    "        \n",
    "def get_path_def(template):\n",
    "    return template.find('path', NSMAP).attrib['d']\n",
    "\n",
    "def get_commands_from_templates(templates):\n",
    "    path_def = templates[0].find('path', NSMAP).attrib['d']\n",
    "    return parse_path_def(path_def)\n",
    "\n",
    "get_path_defs = compose_left(read_templates, curried.map(get_path_def), list)\n",
    "\n",
    "get_commands = compose_left(read_templates, get_commands_from_templates, list)"
   ]
  },
  {
   "cell_type": "code",
   "execution_count": 3,
   "id": "759f8f8e-9193-4d13-ade4-4b5163666538",
   "metadata": {
    "tags": []
   },
   "outputs": [
    {
     "name": "stdout",
     "output_type": "stream",
     "text": [
      "<g xmlns=\"http://www.w3.org/2000/svg\" xmlns:xlink=\"http://www.w3.org/1999/xlink\" id=\"note-0\">\n",
      "            <path transform=\"scale(0.0040, -0.0040)\" d=\"M 213 112                 c -45 0 -69 -34 -69 -88                 c 0 -102 89 -136 134 -136                 s 69 34 69 88                 c 0 102 -89 136 -134 136                 z                 M 245 136                 c 144 0 246 -65 246 -136                 s -102 -136 -246 -136                 s -245 65 -245 136                 s 101 136 245 136                 z\"/>\n",
      "        </g>\n",
      "        \n",
      "\n",
      "<g xmlns=\"http://www.w3.org/2000/svg\" xmlns:xlink=\"http://www.w3.org/1999/xlink\" id=\"note-1\">\n",
      "            <rect x=\"1.2473\" y=\"-3.0000\" width=\"0.1300\" height=\"2.7410\" ry=\"0.0217\"/>\n",
      "            <path transform=\"scale(0.0040, -0.0040)\" d=\"M 314 65                               c 0 23 -19 41 -42 41                               c -39 0 -204 -110 -231 -143                               c -7 -8 -10 -18 -10 -28                               c 0 -23 19 -41 42 -41                               c 39 0 203 110 230 143                               c 7 8 11 18 11 28                               z                               M 262 136                               c 41 0 82 -14 82 -71                               c 0 -26 -16 -112 -74 -151                               c -25 -17 -87 -50 -187 -50                               c -41 0 -83 14 -83 71                               c 0 26 16 112 74 151                               c 25 17 88 50 188 50                               z\"/>\n",
      "        </g>\n",
      "        \n",
      "\n",
      "<g xmlns=\"http://www.w3.org/2000/svg\" xmlns:xlink=\"http://www.w3.org/1999/xlink\" id=\"note-2\">\n",
      "            <rect x=\"1.1742\" y=\"-3.0000\" width=\"0.1300\" height=\"2.8139\" ry=\"0.0217\"/>\n",
      "            <path transform=\"scale(0.0040, -0.0040)\" d=\"M 218 136                               c 66 0 108 -36 108 -89                               c 0 -89 -113 -183 -218 -183                               c -66 0 -108 36 -108 89                               c 0 89 113 183 218 183                               z\"/>\n",
      "        </g>\n",
      "        \n",
      "\n",
      "<g xmlns=\"http://www.w3.org/2000/svg\" xmlns:xlink=\"http://www.w3.org/1999/xlink\" id=\"note-3\">\n",
      "            <!--stem-->\n",
      "            <rect x=\"1.1742\" y=\"-3.0000\" width=\"0.1300\" height=\"2.8139\" ry=\"0.0217\"/>\n",
      "            <!--head-->\n",
      "            <path transform=\"scale(0.0040, -0.0040)\" d=\"M 218 136                               c 66 0 108 -36 108 -89                               c 0 -89 -113 -183 -218 -183                               c -66 0 -108 36 -108 89                               c 0 89 113 183 218 183                               z\"/>\n",
      "            <!--flag-->\n",
      "            <path transform=\"translate(1.3042, -3)                               scale(0.0040, -0.0040)\" d=\"M0 0                               v -250                               h -16                               v 250                               h 16                               z                               M 0 0                               c 0 -197 207 -336 207 -533                               c 0 -71 -15 -141 -41 -207                               c -5 -8 -13 -12 -20 -12                               c -13 0 -26 11 -23 27                               c 26 61 42 126 42 192                               c 0 103 -94 208 -165 283                               v 250                               z\"/>\n",
      "        </g>\n",
      "        \n",
      "\n",
      "<g xmlns=\"http://www.w3.org/2000/svg\" xmlns:xlink=\"http://www.w3.org/1999/xlink\" id=\"note-4\">\n",
      "            <!--stem-->\n",
      "            <rect x=\"1.1742\" y=\"-3.0000\" width=\"0.1300\" height=\"2.8139\" ry=\"0.0217\"/>\n",
      "            <!--head-->\n",
      "            <path transform=\"scale(0.0040, -0.0040)\" d=\"M 218 136                               c 66 0 108 -36 108 -89                               c 0 -89 -113 -183 -218 -183                               c -66 0 -108 36 -108 89                               c 0 89 113 183 218 183                               z\"/>\n",
      "            <!--flags-->\n",
      "            <path transform=\"translate(1.3042, -3.0)                              scale(0.0040, -0.0040)\" d=\"M 0 0                               c 0 -177 201 -293 201 -470                               c 0 -33 -9 -65 -23 -95                               c 18 -37 29 -75 29 -117                               c 0 -63 -15 -125 -41 -183                               c -5 -8 -13 -12 -20 -12                               c -13 0 -26 11 -23 27                               c 26 52 42 110 42 168                               c 0 97 -94 190 -165 257                               v -75                               h -16                               v 500                               h 16                               z                               M 151 -517                               c 5 15 8 31 8 47                               c 0 96 -91 190 -159 257                               c 0 -118 90 -206 151 -304                               z\"/>\n",
      "        </g>\n",
      "    \n",
      "\n"
     ]
    }
   ],
   "source": [
    "pipe(read_templates(), print_templates)\n",
    "\n"
   ]
  },
  {
   "cell_type": "code",
   "execution_count": 4,
   "id": "62029418-c190-4286-b354-d5d5b5beca68",
   "metadata": {},
   "outputs": [
    {
     "name": "stdout",
     "output_type": "stream",
     "text": [
      "[{'args': [(213.0, 112.0)], 'command': 'M'},\n",
      " {'args': [(-45.0, 0.0), (-69.0, -34.0), (-69.0, -88.0)], 'command': 'c'},\n",
      " {'args': [(0.0, -102.0), (89.0, -136.0), (134.0, -136.0)], 'command': 'c'},\n",
      " {'args': [(69.0, 34.0), (69.0, 88.0)], 'command': 's'},\n",
      " {'args': [(0.0, 102.0), (-89.0, 136.0), (-134.0, 136.0)], 'command': 'c'},\n",
      " {'command': 'z'},\n",
      " {'args': [(245.0, 136.0)], 'command': 'M'},\n",
      " {'args': [(144.0, 0.0), (246.0, -65.0), (246.0, -136.0)], 'command': 'c'},\n",
      " {'args': [(-102.0, -136.0), (-246.0, -136.0)], 'command': 's'},\n",
      " {'args': [(-245.0, 65.0), (-245.0, 136.0)], 'command': 's'},\n",
      " {'args': [(101.0, 136.0), (245.0, 136.0)], 'command': 's'},\n",
      " {'command': 'z'}]\n"
     ]
    }
   ],
   "source": [
    "\n",
    "pprint(get_commands())\n"
   ]
  },
  {
   "cell_type": "code",
   "execution_count": 5,
   "id": "7d126b43-f0e0-48be-beb8-710bf790b603",
   "metadata": {},
   "outputs": [],
   "source": [
    "from sympy import *\n",
    "\n",
    "init_printing()\n"
   ]
  },
  {
   "cell_type": "code",
   "execution_count": 6,
   "id": "663a5186-f4f4-46d9-b380-6acb2aa25f87",
   "metadata": {},
   "outputs": [
    {
     "data": {
      "image/png": "[encoded data removed]",
      "text/latex": [
       "$\\displaystyle t^{k} \\left(1 - t\\right)^{- k + n} {\\binom{n}{k}}$"
      ],
      "text/plain": [
       " k        -k + n ⎛n⎞\n",
       "t ⋅(1 - t)      ⋅⎜ ⎟\n",
       "                 ⎝k⎠"
      ]
     },
     "execution_count": 6,
     "metadata": {},
     "output_type": "execute_result"
    }
   ],
   "source": [
    "bernstein_polynomial = sympify('binomial(n, k) * t**k * (1 - t)**(n - k)')\n",
    "bernstein_polynomial\n"
   ]
  },
  {
   "cell_type": "code",
   "execution_count": 7,
   "id": "8c7d6319-e7c8-4932-9755-12412085ddd4",
   "metadata": {
    "tags": []
   },
   "outputs": [
    {
     "name": "stdout",
     "output_type": "stream",
     "text": [
      "P_0 = (1 - t)**3\n",
      "P_1 = 3*t*(1 - t)**2\n",
      "P_2 = 3*t**2*(1 - t)\n",
      "P_3 = t**3\n"
     ]
    }
   ],
   "source": [
    "for k in range(4):\n",
    "    print(f\"P_{k} = {bernstein_polynomial.subs({'n': 3, 'k': k})}\")\n"
   ]
  },
  {
   "cell_type": "code",
   "execution_count": 8,
   "id": "c3038546-ef18-43b2-8acb-4b27367d42a3",
   "metadata": {},
   "outputs": [
    {
     "data": {
      "image/png": "[encoded data removed]",
      "text/latex": [
       "$\\displaystyle t^{k} \\left(1 - t\\right)^{3 - k} {\\binom{3}{k}}$"
      ],
      "text/plain": [
       " k        3 - k ⎛3⎞\n",
       "t ⋅(1 - t)     ⋅⎜ ⎟\n",
       "                ⎝k⎠"
      ]
     },
     "execution_count": 8,
     "metadata": {},
     "output_type": "execute_result"
    }
   ],
   "source": [
    "cubic_bernstein_polynomial = bernstein_polynomial.subs({'n': 3})\n",
    "b3 = cubic_bernstein_polynomial\n",
    "b3\n"
   ]
  },
  {
   "cell_type": "code",
   "execution_count": 9,
   "id": "70fc193a-db7f-41e6-a834-8600178e293c",
   "metadata": {},
   "outputs": [
    {
     "name": "stdout",
     "output_type": "stream",
     "text": [
      "b_0 = (1 - t)**3\n",
      "b_1 = 3*t*(1 - t)**2\n",
      "b_2 = 3*t**2*(1 - t)\n",
      "b_3 = t**3\n"
     ]
    }
   ],
   "source": [
    "def get_cubic_bernstein_polynomial(k):\n",
    "    return b3.subs({'k': k})\n",
    "\n",
    "for k in range(4):\n",
    "    print(f'b_{k} = {get_cubic_bernstein_polynomial(k)}')\n"
   ]
  },
  {
   "cell_type": "code",
   "execution_count": 10,
   "id": "6502efa0-73ba-41fa-9043-ad914865892b",
   "metadata": {},
   "outputs": [
    {
     "data": {
      "image/png": "[encoded data removed]",
      "text/latex": [
       "$\\displaystyle \\left[ P_{0}, \\  P_{1}, \\  P_{2}, \\  P_{3}\\right]$"
      ],
      "text/plain": [
       "[P₀, P₁, P₂, P₃]"
      ]
     },
     "execution_count": 10,
     "metadata": {},
     "output_type": "execute_result"
    }
   ],
   "source": [
    "p = [Symbol(f'P_{i}') for i in range(4)]\n",
    "p\n"
   ]
  },
  {
   "cell_type": "code",
   "execution_count": 11,
   "id": "ff2591a6-9eed-474c-9f40-d27064e1888e",
   "metadata": {},
   "outputs": [
    {
     "data": {
      "image/png": "[encoded data removed]",
      "text/latex": [
       "$\\displaystyle P_{0} \\left(1 - t\\right)^{3} + 3 P_{1} t \\left(1 - t\\right)^{2} + 3 P_{2} t^{2} \\cdot \\left(1 - t\\right) + P_{3} t^{3}$"
      ],
      "text/plain": [
       "          3                 2         2               3\n",
       "P₀⋅(1 - t)  + 3⋅P₁⋅t⋅(1 - t)  + 3⋅P₂⋅t ⋅(1 - t) + P₃⋅t "
      ]
     },
     "execution_count": 11,
     "metadata": {},
     "output_type": "execute_result"
    }
   ],
   "source": [
    "cubic_bezier = sum([b3.subs({'k': i}) * p[i] for i in range(4)])\n",
    "cubic_bezier\n"
   ]
  },
  {
   "cell_type": "code",
   "execution_count": 12,
   "id": "0653680a-e08e-49e3-b3c9-8bc850f18f31",
   "metadata": {},
   "outputs": [
    {
     "data": {
      "image/png": "[encoded data removed]",
      "text/latex": [
       "$\\displaystyle - 3 P_{0} \\left(1 - t\\right)^{2} + 3 P_{1} t \\left(2 t - 2\\right) + 3 P_{1} \\left(1 - t\\right)^{2} - 3 P_{2} t^{2} + 6 P_{2} t \\left(1 - t\\right) + 3 P_{3} t^{2}$"
      ],
      "text/plain": [
       "              2                                  2         2                          2\n",
       "- 3⋅P₀⋅(1 - t)  + 3⋅P₁⋅t⋅(2⋅t - 2) + 3⋅P₁⋅(1 - t)  - 3⋅P₂⋅t  + 6⋅P₂⋅t⋅(1 - t) + 3⋅P₃⋅t "
      ]
     },
     "execution_count": 12,
     "metadata": {},
     "output_type": "execute_result"
    }
   ],
   "source": [
    "d1cubic_bezier = diff(cubic_bezier, 't')\n",
    "d1cubic_bezier\n"
   ]
  },
  {
   "cell_type": "code",
   "execution_count": 13,
   "id": "92ed88be-b861-4d53-b413-e370f1353d0b",
   "metadata": {},
   "outputs": [],
   "source": [
    "from dataclasses import dataclass, field\n",
    "\n",
    "@dataclass\n",
    "class Point():\n",
    "    x: float\n",
    "    y: float\n",
    "    \n",
    "    def to_matrix(self):\n",
    "        return Matrix([ self.x, self.y ])\n",
    "    \n",
    "    def __add__(self, other):\n",
    "        match other:\n",
    "            case Point():\n",
    "                return Point(self.x + other.x, self.y + other.y)\n",
    "            case _:\n",
    "                raise TypeError\n",
    "                \n",
    "    def __sub__(self, other):\n",
    "        match other:\n",
    "            case Point():\n",
    "                return Point(self.x - other.x, self.y - other.y)\n",
    "            case _:\n",
    "                raise TypeError\n",
    "                \n",
    "    def __str__(self):\n",
    "        return f'{self.x}, {self.y}'\n",
    "                \n"
   ]
  },
  {
   "cell_type": "code",
   "execution_count": 14,
   "id": "2f8bbc16-d58d-4909-a713-9382b94ba1fb",
   "metadata": {},
   "outputs": [
    {
     "data": {
      "text/plain": [
       "[{'command': 'M', 'args': [Point(x=213.0, y=112.0)]},\n",
       " {'command': 'c',\n",
       "  'args': [Point(x=-45.0, y=0.0),\n",
       "   Point(x=-69.0, y=-34.0),\n",
       "   Point(x=-69.0, y=-88.0)]},\n",
       " {'command': 'c',\n",
       "  'args': [Point(x=0.0, y=-102.0),\n",
       "   Point(x=89.0, y=-136.0),\n",
       "   Point(x=134.0, y=-136.0)]},\n",
       " {'command': 's', 'args': [Point(x=69.0, y=34.0), Point(x=69.0, y=88.0)]},\n",
       " {'command': 'c',\n",
       "  'args': [Point(x=0.0, y=102.0),\n",
       "   Point(x=-89.0, y=136.0),\n",
       "   Point(x=-134.0, y=136.0)]},\n",
       " {'command': 'z'},\n",
       " {'command': 'M', 'args': [Point(x=245.0, y=136.0)]},\n",
       " {'command': 'c',\n",
       "  'args': [Point(x=144.0, y=0.0),\n",
       "   Point(x=246.0, y=-65.0),\n",
       "   Point(x=246.0, y=-136.0)]},\n",
       " {'command': 's',\n",
       "  'args': [Point(x=-102.0, y=-136.0), Point(x=-246.0, y=-136.0)]},\n",
       " {'command': 's', 'args': [Point(x=-245.0, y=65.0), Point(x=-245.0, y=136.0)]},\n",
       " {'command': 's', 'args': [Point(x=101.0, y=136.0), Point(x=245.0, y=136.0)]},\n",
       " {'command': 'z'}]"
      ]
     },
     "execution_count": 14,
     "metadata": {},
     "output_type": "execute_result"
    }
   ],
   "source": [
    "def get_points(commands):\n",
    "    for command in commands:\n",
    "        if 'args' in command:\n",
    "            yield {'command': command['command'], \n",
    "                   'args': [Point(*arg) for arg in command['args']]}\n",
    "        else:\n",
    "            yield command\n",
    "\n",
    "commands_with_points = pipe(get_commands(), get_points, list)\n",
    "commands_with_points"
   ]
  },
  {
   "cell_type": "code",
   "execution_count": 15,
   "id": "4c346c6c-0e0e-412f-8de3-c942e9d8a640",
   "metadata": {
    "tags": []
   },
   "outputs": [
    {
     "data": {
      "image/png": "[encoded data removed]",
      "text/latex": [
       "$\\displaystyle \\left( \\left[\\begin{matrix}213.0\\\\112.0\\end{matrix}\\right], \\  \\left[\\begin{matrix}168.0\\\\112.0\\end{matrix}\\right], \\  \\left[\\begin{matrix}144.0\\\\78.0\\end{matrix}\\right], \\  \\left[\\begin{matrix}144.0\\\\24.0\\end{matrix}\\right]\\right)$"
      ],
      "text/plain": [
       "⎛⎡213.0⎤  ⎡168.0⎤  ⎡144.0⎤  ⎡144.0⎤⎞\n",
       "⎜⎢     ⎥, ⎢     ⎥, ⎢     ⎥, ⎢     ⎥⎟\n",
       "⎝⎣112.0⎦  ⎣112.0⎦  ⎣78.0 ⎦  ⎣24.0 ⎦⎠"
      ]
     },
     "execution_count": 15,
     "metadata": {},
     "output_type": "execute_result"
    }
   ],
   "source": [
    "p0 = commands_with_points[0]['args'][0]\n",
    "p1 = commands_with_points[1]['args'][0] + p0\n",
    "p2 = commands_with_points[1]['args'][1] + p0\n",
    "p3 = commands_with_points[1]['args'][2] + p0\n",
    "\n",
    "p0.to_matrix(), p1.to_matrix(), p2.to_matrix(), p3.to_matrix()\n",
    "\n"
   ]
  },
  {
   "cell_type": "code",
   "execution_count": 16,
   "id": "e9c85ba4-f53c-45b1-ba5c-4e128b420ea6",
   "metadata": {},
   "outputs": [
    {
     "data": {
      "image/png": "[encoded data removed]",
      "text/latex": [
       "$\\displaystyle \\left[ \\left[\\begin{matrix}213.0\\\\112.0\\end{matrix}\\right], \\  \\left[\\begin{matrix}168.0\\\\112.0\\end{matrix}\\right], \\  \\left[\\begin{matrix}144.0\\\\78.0\\end{matrix}\\right], \\  \\left[\\begin{matrix}144.0\\\\24.0\\end{matrix}\\right]\\right]$"
      ],
      "text/plain": [
       "⎡⎡213.0⎤  ⎡168.0⎤  ⎡144.0⎤  ⎡144.0⎤⎤\n",
       "⎢⎢     ⎥, ⎢     ⎥, ⎢     ⎥, ⎢     ⎥⎥\n",
       "⎣⎣112.0⎦  ⎣112.0⎦  ⎣78.0 ⎦  ⎣24.0 ⎦⎦"
      ]
     },
     "execution_count": 16,
     "metadata": {},
     "output_type": "execute_result"
    }
   ],
   "source": [
    "def get_points(p0, control_points):\n",
    "    yield p0\n",
    "    for p in control_points:\n",
    "        yield p0 + p\n",
    "        \n",
    "vectors = [pt.to_matrix() for pt \n",
    "           in get_points(commands_with_points[0]['args'][-1], \n",
    "                         commands_with_points[1]['args'])]\n",
    "vectors\n"
   ]
  },
  {
   "cell_type": "code",
   "execution_count": 17,
   "id": "fa019377-669c-469a-a60e-942607e46c8e",
   "metadata": {},
   "outputs": [
    {
     "data": {
      "text/plain": [
       "{'P_0': Matrix([\n",
       " [213.0],\n",
       " [112.0]]),\n",
       " 'P_1': Matrix([\n",
       " [168.0],\n",
       " [112.0]]),\n",
       " 'P_2': Matrix([\n",
       " [144.0],\n",
       " [ 78.0]]),\n",
       " 'P_3': Matrix([\n",
       " [144.0],\n",
       " [ 24.0]])}"
      ]
     },
     "execution_count": 17,
     "metadata": {},
     "output_type": "execute_result"
    }
   ],
   "source": [
    "substitution_dict = {f'P_{i}':v for i, v in enumerate(vectors)}\n",
    "substitution_dict\n"
   ]
  },
  {
   "cell_type": "code",
   "execution_count": 18,
   "id": "c177096e-4af2-4fd1-bcdc-e4c0b8426f38",
   "metadata": {},
   "outputs": [
    {
     "data": {
      "image/png": "[encoded data removed]",
      "text/latex": [
       "$\\displaystyle \\left[\\begin{matrix}144.0 t^{3} + 432.0 t^{2} \\cdot \\left(1 - t\\right) + 504.0 t \\left(1 - t\\right)^{2} + 213.0 \\left(1 - t\\right)^{3}\\\\24.0 t^{3} + 234.0 t^{2} \\cdot \\left(1 - t\\right) + 336.0 t \\left(1 - t\\right)^{2} + 112.0 \\left(1 - t\\right)^{3}\\end{matrix}\\right]$"
      ],
      "text/plain": [
       "⎡       3          2                          2                3⎤\n",
       "⎢144.0⋅t  + 432.0⋅t ⋅(1 - t) + 504.0⋅t⋅(1 - t)  + 213.0⋅(1 - t) ⎥\n",
       "⎢                                                               ⎥\n",
       "⎢      3          2                          2                3 ⎥\n",
       "⎣24.0⋅t  + 234.0⋅t ⋅(1 - t) + 336.0⋅t⋅(1 - t)  + 112.0⋅(1 - t)  ⎦"
      ]
     },
     "execution_count": 18,
     "metadata": {},
     "output_type": "execute_result"
    }
   ],
   "source": [
    "b = cubic_bezier.subs(substitution_dict)\n",
    "b\n"
   ]
  },
  {
   "cell_type": "code",
   "execution_count": 19,
   "id": "2481590c-0d75-4a1c-8d86-ba9701b2c903",
   "metadata": {},
   "outputs": [
    {
     "data": {
      "image/png": "[encoded data removed]",
      "text/latex": [
       "$\\displaystyle \\left[\\begin{matrix}864.0 t \\left(1 - t\\right) + 504.0 t \\left(2 t - 2\\right) - 135.0 \\left(1 - t\\right)^{2}\\\\- 162.0 t^{2} + 468.0 t \\left(1 - t\\right) + 336.0 t \\left(2 t - 2\\right)\\end{matrix}\\right]$"
      ],
      "text/plain": [
       "⎡                                                   2⎤\n",
       "⎢864.0⋅t⋅(1 - t) + 504.0⋅t⋅(2⋅t - 2) - 135.0⋅(1 - t) ⎥\n",
       "⎢                                                    ⎥\n",
       "⎢           2                                        ⎥\n",
       "⎣  - 162.0⋅t  + 468.0⋅t⋅(1 - t) + 336.0⋅t⋅(2⋅t - 2)  ⎦"
      ]
     },
     "execution_count": 19,
     "metadata": {},
     "output_type": "execute_result"
    }
   ],
   "source": [
    "d1b = d1cubic_bezier.subs(substitution_dict)\n",
    "d1b\n"
   ]
  },
  {
   "cell_type": "code",
   "execution_count": 20,
   "id": "bdde60f9-6d3c-4d91-b603-a01d125dec62",
   "metadata": {},
   "outputs": [],
   "source": [
    "t = Symbol('t')\n"
   ]
  },
  {
   "cell_type": "code",
   "execution_count": 21,
   "id": "eb8f3809-2361-4ce7-b232-f61adc0ef2f6",
   "metadata": {},
   "outputs": [
    {
     "name": "stdout",
     "output_type": "stream",
     "text": [
      "Value of t when x = 0: [1.0]\n",
      "Tangent points:\n",
      "⎡144.0⎤\n",
      "⎢     ⎥\n",
      "⎣24.0 ⎦\n"
     ]
    }
   ],
   "source": [
    "# Find t when the derivative of the curve w.r.t. t = 0.\n",
    "# First, we set the first derivative of the parametric equation for x = 0 to\n",
    "# determine its tangent.\n",
    "d1bx = d1b.row(0)\n",
    "solutions = [soln[t] for soln in solve(d1bx) \n",
    "             if soln[t] >= 0.0 and soln[t] <= 1.0]\n",
    "print('Value of t when x = 0: ', end='')\n",
    "pprint(solutions)\n",
    "\n",
    "print('Tangent points:')\n",
    "for solution in solutions:\n",
    "    pprint(b.subs(t, solution))\n",
    "    "
   ]
  },
  {
   "cell_type": "code",
   "execution_count": 22,
   "id": "cf816daa-f88e-4e8b-80cc-05e1df541f91",
   "metadata": {},
   "outputs": [
    {
     "data": {
      "image/png": "[encoded data removed]",
      "text/latex": [
       "$\\displaystyle \\left[ \\left[\\begin{matrix}144.0\\\\24.0\\end{matrix}\\right]\\right]$"
      ],
      "text/plain": [
       "⎡⎡144.0⎤⎤\n",
       "⎢⎢     ⎥⎥\n",
       "⎣⎣24.0 ⎦⎦"
      ]
     },
     "execution_count": 22,
     "metadata": {},
     "output_type": "execute_result"
    }
   ],
   "source": [
    "# Rewriting the above in a form that's easier to use in code:\n",
    "d1bx = d1b.row(0)\n",
    "solutions = (soln[t] for soln in solve(d1bx)\n",
    "             if soln[t] >= 0.0 and soln[t] <= 1.0)\n",
    "vertical_tangent_points = [b.evalf(subs={t: solution}) for solution in solutions]\n",
    "vertical_tangent_points\n"
   ]
  },
  {
   "cell_type": "code",
   "execution_count": 23,
   "id": "68bf30b0-80f4-496a-b003-228c483ba984",
   "metadata": {},
   "outputs": [
    {
     "data": {
      "image/png": "[encoded data removed]",
      "text/latex": [
       "$\\displaystyle \\left( 144.0, \\  24.0\\right)$"
      ],
      "text/plain": [
       "(144.0, 24.0)"
      ]
     },
     "execution_count": 23,
     "metadata": {},
     "output_type": "execute_result"
    }
   ],
   "source": [
    "vertical_tangent_points[0][0], vertical_tangent_points[0][1]\n"
   ]
  },
  {
   "cell_type": "code",
   "execution_count": 24,
   "id": "4ac555ee-54e2-4d29-8f1e-b9e8d16a49ae",
   "metadata": {},
   "outputs": [
    {
     "data": {
      "image/png": "[encoded data removed]",
      "text/latex": [
       "$\\displaystyle \\left[ \\left[\\begin{matrix}213.0\\\\112.0\\end{matrix}\\right]\\right]$"
      ],
      "text/plain": [
       "⎡⎡213.0⎤⎤\n",
       "⎢⎢     ⎥⎥\n",
       "⎣⎣112.0⎦⎦"
      ]
     },
     "execution_count": 24,
     "metadata": {},
     "output_type": "execute_result"
    }
   ],
   "source": [
    "d1by = d1b.row(1)\n",
    "solutions = (soln[t] for soln in solve(d1by)\n",
    "             if soln[t] >= 0.0 and soln[t] <= 1.0)\n",
    "horizontal_tangent_points = [b.evalf(subs={t: solution}) for solution in solutions]\n",
    "horizontal_tangent_points\n"
   ]
  },
  {
   "cell_type": "code",
   "execution_count": 25,
   "id": "d5d08e03-5247-488b-84d2-13aab2d325c7",
   "metadata": {},
   "outputs": [
    {
     "data": {
      "text/html": [
       "<svg viewbox=\"0 0 700 600\">\n",
       "<rect width=\"700\" height=\"600\" fill=\"#fff\"/>\n",
       "<g transform=\"translate(350, 300) scale(.5, .5)\">\n",
       "<line x1=\"0\" y1=\"-550\" x2=\"0\" y2=\"550\" stroke=\"#000\"/>\n",
       "<line x1=\"-650\" y1=\"0\" x2=\"650\" y2=\"0\" stroke=\"#000\"/>\n",
       "<g id=\"note-0\" transform=\"scale(1, 1)\">\n",
       "            <path d=\"M 213 112\n",
       "                     c -45 0 -69 -34 -69 -88\n",
       "                     c 0 -102 89 -136 134 -136\n",
       "                     s 69 34 69 88\n",
       "                     c 0 102 -89 136 -134 136\n",
       "                     z\n",
       "                     M 245 136\n",
       "                     c 144 0 246 -65 246 -136\n",
       "                     s -102 -136 -246 -136\n",
       "                     s -245 65 -245 136\n",
       "                     s 101 136 245 136\n",
       "                     z\"/>\n",
       "        </g>\n",
       "        </g>\n",
       "</svg>"
      ],
      "text/plain": [
       "<IPython.core.display.HTML object>"
      ]
     },
     "execution_count": 25,
     "metadata": {},
     "output_type": "execute_result"
    }
   ],
   "source": [
    "from IPython.core.display import HTML\n",
    "\n",
    "HTML(f'''<svg viewbox=\"0 0 700 600\">\n",
    "<rect width=\"700\" height=\"600\" fill=\"#fff\"/>\n",
    "<g transform=\"translate(350, 300) scale(.5, .5)\">\n",
    "<line x1=\"0\" y1=\"-550\" x2=\"0\" y2=\"550\" stroke=\"#000\"/>\n",
    "<line x1=\"-650\" y1=\"0\" x2=\"650\" y2=\"0\" stroke=\"#000\"/>\n",
    "<g id=\"note-0\" transform=\"scale(1, 1)\">\n",
    "            <path d=\"M 213 112\n",
    "                     c -45 0 -69 -34 -69 -88\n",
    "                     c 0 -102 89 -136 134 -136\n",
    "                     s 69 34 69 88\n",
    "                     c 0 102 -89 136 -134 136\n",
    "                     z\n",
    "                     M 245 136\n",
    "                     c 144 0 246 -65 246 -136\n",
    "                     s -102 -136 -246 -136\n",
    "                     s -245 65 -245 136\n",
    "                     s 101 136 245 136\n",
    "                     z\"/>\n",
    "        </g>\n",
    "        </g>\n",
    "</svg>''')\n"
   ]
  },
  {
   "cell_type": "code",
   "execution_count": 26,
   "id": "57c8766b-d870-4b36-bdd6-c485dd9e37e4",
   "metadata": {
    "tags": []
   },
   "outputs": [
    {
     "name": "stdout",
     "output_type": "stream",
     "text": [
      "{'command': 'M', 'args': [Point(x=213.0, y=112.0)]}\n",
      "{'command': 'c', 'args': [Point(x=-45.0, y=0.0), Point(x=-69.0, y=-34.0), Point(x=-69.0, y=-88.0)]}\n",
      "{'command': 'c', 'args': [Point(x=0.0, y=-102.0), Point(x=89.0, y=-136.0), Point(x=134.0, y=-136.0)]}\n",
      "{'command': 's', 'args': [Point(x=69.0, y=34.0), Point(x=69.0, y=88.0)]}\n",
      "{'command': 'c', 'args': [Point(x=0.0, y=102.0), Point(x=-89.0, y=136.0), Point(x=-134.0, y=136.0)]}\n",
      "{'command': 'z'}\n",
      "{'command': 'M', 'args': [Point(x=245.0, y=136.0)]}\n",
      "{'command': 'c', 'args': [Point(x=144.0, y=0.0), Point(x=246.0, y=-65.0), Point(x=246.0, y=-136.0)]}\n",
      "{'command': 's', 'args': [Point(x=-102.0, y=-136.0), Point(x=-246.0, y=-136.0)]}\n",
      "{'command': 's', 'args': [Point(x=-245.0, y=65.0), Point(x=-245.0, y=136.0)]}\n",
      "{'command': 's', 'args': [Point(x=101.0, y=136.0), Point(x=245.0, y=136.0)]}\n",
      "{'command': 'z'}\n"
     ]
    }
   ],
   "source": [
    "import abc\n",
    "\n",
    "@dataclass(frozen=True)\n",
    "class MoveTo():\n",
    "    p: Point\n",
    "    \n",
    "    def __str__(self):\n",
    "        return f'M {self.p}'\n",
    "    \n",
    "@dataclass(frozen=True)\n",
    "class AbstractCubicBezier(abc.ABC):\n",
    "    p0: Point\n",
    "    p1: Point\n",
    "    p2: Point\n",
    "    p3: Point\n",
    " \n",
    "    @property\n",
    "    def points(self):\n",
    "        return [self.p0, self.p1, self.p2, self.p3]\n",
    "\n",
    "@dataclass(frozen=True)\n",
    "class CubicBezierAbs(AbstractCubicBezier):\n",
    "    \n",
    "    def to_rel(self):\n",
    "        return CubicBezierRel(MoveTo(self.p0), \n",
    "                              self.p1 - self.p0, \n",
    "                              self.p2 - self.p0, \n",
    "                              self.p3 - self.p0)\n",
    "    \n",
    "    def __str__(self):\n",
    "        return f'C {self.p1} {self.p2} {self.p3}'\n",
    "\n",
    "@dataclass(frozen=True, init=False)\n",
    "class CubicBezierRel(AbstractCubicBezier):\n",
    "    \n",
    "    def __init__(self, move_to, p1, p2, p3):\n",
    "        match move_to:\n",
    "            case Point() as p:\n",
    "                super().__init__(p, p1, p2, p3)\n",
    "            case MoveTo():\n",
    "                super().__init__(move_to.p, p1, p2, p3)\n",
    "            case CubicBezierAbs() as b:\n",
    "                super().__init__(b.p3, p1, p2, p3)\n",
    "        \n",
    "    def to_abs(self):\n",
    "        return CubicBezierAbs(self.p0, \n",
    "                              self.p1 + self.p0, \n",
    "                              self.p2 + self.p0, \n",
    "                              self.p3 + self.p0)\n",
    "        \n",
    "    def __str__(self):\n",
    "        return f'c {self.p1} {self.p2} {self.p3}'\n",
    "\n",
    "    \n",
    "@dataclass(frozen=True)\n",
    "class ShorthandCubicBezierRel(CubicBezierRel):\n",
    "    \n",
    "    def __init__(self, previous_bezier, p2, p3):\n",
    "        super().__init__(previous_bezier.p3,\n",
    "                              previous_bezier.p3 - previous_bezier.p2,\n",
    "                              p2,\n",
    "                              p3)\n",
    "    \n",
    "    def __str__(self):\n",
    "        return f's {self.p2} {self.p3}'\n",
    "    \n",
    "class ClosePath():\n",
    "    \n",
    "    def __str__(self):\n",
    "        return 'z'\n",
    "    \n",
    "    def __repr__(self):\n",
    "        return f'{self.__class__.__name__}()'\n",
    "\n",
    "\n",
    "for cmd in commands_with_points:\n",
    "    print(cmd)\n",
    "    "
   ]
  },
  {
   "cell_type": "code",
   "execution_count": 27,
   "id": "7285af4a-0e78-4982-ae4b-091a285c5d86",
   "metadata": {},
   "outputs": [],
   "source": [
    "import json\n",
    "with open('whole_note_path.json', mode='w') as fp:\n",
    "    json.dump(get_commands(), fp, indent=4)\n",
    "    "
   ]
  },
  {
   "cell_type": "code",
   "execution_count": 28,
   "id": "a210f0b5-644e-4339-8d87-d67f8bedd142",
   "metadata": {},
   "outputs": [
    {
     "data": {
      "text/plain": [
       "[MoveTo(p=Point(x=213.0, y=112.0)),\n",
       " CubicBezierAbs(p0=Point(x=213.0, y=112.0), p1=Point(x=168.0, y=112.0), p2=Point(x=144.0, y=78.0), p3=Point(x=144.0, y=24.0)),\n",
       " CubicBezierAbs(p0=Point(x=144.0, y=24.0), p1=Point(x=144.0, y=-78.0), p2=Point(x=233.0, y=-112.0), p3=Point(x=278.0, y=-112.0)),\n",
       " CubicBezierAbs(p0=Point(x=278.0, y=-112.0), p1=Point(x=323.0, y=-112.0), p2=Point(x=347.0, y=-78.0), p3=Point(x=347.0, y=-24.0)),\n",
       " CubicBezierAbs(p0=Point(x=278.0, y=-112.0), p1=Point(x=278.0, y=-10.0), p2=Point(x=189.0, y=24.0), p3=Point(x=144.0, y=24.0)),\n",
       " ClosePath(),\n",
       " MoveTo(p=Point(x=245.0, y=136.0)),\n",
       " CubicBezierAbs(p0=Point(x=245.0, y=136.0), p1=Point(x=389.0, y=136.0), p2=Point(x=491.0, y=71.0), p3=Point(x=491.0, y=0.0)),\n",
       " CubicBezierAbs(p0=Point(x=491.0, y=0.0), p1=Point(x=491.0, y=-71.0), p2=Point(x=389.0, y=-136.0), p3=Point(x=245.0, y=-136.0)),\n",
       " CubicBezierAbs(p0=Point(x=491.0, y=0.0), p1=Point(x=491.0, y=-71.0), p2=Point(x=246.0, y=65.0), p3=Point(x=246.0, y=136.0)),\n",
       " CubicBezierAbs(p0=Point(x=491.0, y=0.0), p1=Point(x=491.0, y=-71.0), p2=Point(x=592.0, y=136.0), p3=Point(x=736.0, y=136.0)),\n",
       " ClosePath()]"
      ]
     },
     "execution_count": 28,
     "metadata": {},
     "output_type": "execute_result"
    }
   ],
   "source": [
    "def make_typed_commands(command_dicts):\n",
    "    previous_command = None\n",
    "    for d in command_dicts:\n",
    "        match d['command']:\n",
    "            case 'M':\n",
    "                move_to = MoveTo(d['args'][0])\n",
    "                previous_command = move_to\n",
    "                yield move_to\n",
    "            case 'c':\n",
    "                rel_bezier = CubicBezierRel(previous_command, *d['args'])\n",
    "                abs_bezier = rel_bezier.to_abs()\n",
    "                previous_command = abs_bezier\n",
    "                yield abs_bezier\n",
    "            case 's':\n",
    "                rel_bezier = ShorthandCubicBezierRel(previous_command, *d['args'])\n",
    "                abs_bezier = rel_bezier.to_abs()\n",
    "                yield abs_bezier\n",
    "            case 'z':\n",
    "                previous_command = None\n",
    "                yield ClosePath()\n",
    "                \n",
    "typed_commands = list(make_typed_commands(commands_with_points))\n",
    "typed_commands\n",
    "\n"
   ]
  },
  {
   "cell_type": "code",
   "execution_count": 29,
   "id": "976ea2b3-6ad8-49f8-84e5-fb4a4703502c",
   "metadata": {},
   "outputs": [
    {
     "name": "stdout",
     "output_type": "stream",
     "text": [
      "M 213.0, 112.0\n",
      "C 168.0, 112.0 144.0, 78.0 144.0, 24.0\n",
      "C 144.0, -78.0 233.0, -112.0 278.0, -112.0\n",
      "C 323.0, -112.0 347.0, -78.0 347.0, -24.0\n",
      "C 278.0, -10.0 189.0, 24.0 144.0, 24.0\n",
      "z\n",
      "M 245.0, 136.0\n",
      "C 389.0, 136.0 491.0, 71.0 491.0, 0.0\n",
      "C 491.0, -71.0 389.0, -136.0 245.0, -136.0\n",
      "C 491.0, -71.0 246.0, 65.0 246.0, 136.0\n",
      "C 491.0, -71.0 592.0, 136.0 736.0, 136.0\n",
      "z\n",
      "\n"
     ]
    }
   ],
   "source": [
    "with io.StringIO() as sp:\n",
    "    for cmd in typed_commands:\n",
    "        print(cmd, file=sp)\n",
    "    s = sp.getvalue()\n",
    "    \n",
    "print(s)\n",
    "pyperclip.copy(s)\n"
   ]
  },
  {
   "cell_type": "code",
   "execution_count": 30,
   "id": "1c2c10a6-b3c0-45c2-b8fe-e6b05f698ab4",
   "metadata": {},
   "outputs": [],
   "source": [
    "def parse_attr_dict(attr_dict):\n",
    "    with io.StringIO() as sp:\n",
    "        for key, value in attr_dict.items():\n",
    "            print(f' {key}=\"{value}\"', end='', file=sp)\n",
    "        return sp.getvalue()\n",
    "\n",
    "def line(x1, y1, x2, y2, attr={}):\n",
    "    \n",
    "    return f'<line x1=\"{x1}\" y1=\"{y1}\" x2=\"{x2}\" ' \\\n",
    "           f'y2=\"{y2}\"{parse_attr_dict(attr)}/>'\n",
    "\n",
    "def horizontal_line(x1, x2, y, attr={}):\n",
    "    return line(x1, y, x2, y, attr=attr)\n",
    "\n",
    "def vertical_line(x, y1, y2, attr={}):\n",
    "    return line(x, y1, x, y2, attr=attr)\n",
    "\n",
    "def get_grid_lines(min_x, min_y, max_x, max_y, incr, start_offset=-25):\n",
    "    for y in range(min_x, max_x+incr, incr):\n",
    "        yield horizontal_line(min_x+start_offset, max_x, y)\n",
    "    for x in range(min_y, max_y+incr, incr):\n",
    "        yield vertical_line(x, min_y+start_offset, max_y)\n",
    "        \n",
    "def get_axes(min_x, min_y, max_x, max_y):\n",
    "    attr = {'class': 'axis'}\n",
    "    if min_x <= 0 and max_x >= 0:\n",
    "        yield horizontal_line(min_x, max_x, 0, attr)\n",
    "    if min_y <= 0 and max_y >= 0:\n",
    "        yield vertical_line(0, min_y, max_y, attr)\n",
    "        \n",
    "def svg(content, viewbox='\"0 0 700 600\"'):\n",
    "    return f'''<svg viewbox={viewbox}>\n",
    "               <g transform=\"translate(25, 25)\">\n",
    "               <rect width=\"700\" height=\"600\" class=\"bounding-rectangle\" \n",
    "                stroke=\"#000\" stroke-width=\"1\" fill=\"#fff\"/>\n",
    "                {content}</g></svg>'''\n",
    "\n",
    "grid_lines ='\\n'.join(chain(get_grid_lines(0, 300, 650, 250, 100),\n",
    "                            get_axes(-25, -325, 650, 250)))\n",
    "\n",
    "grid = f'<g>{grid_lines}</g>'\n",
    "\n",
    "svg_doc = svg(grid)\n",
    "\n",
    "# print(svg_doc)\n",
    "\n",
    "# grid_tree = etree.XML(svg_doc)\n",
    "# pprint(etree.tostring(grid_tree, pretty_print=True).decode('utf-8'))\n",
    "\n",
    "HTML(svg_doc)\n",
    "pyperclip.copy(svg_doc)\n"
   ]
  },
  {
   "cell_type": "code",
   "execution_count": 31,
   "id": "78d213bf-b8f2-4ca0-af14-43eb7609b276",
   "metadata": {},
   "outputs": [
    {
     "name": "stdout",
     "output_type": "stream",
     "text": [
      "<text x=\"191\" y=\"-10\" class=\"axis-label\">200</text>\n",
      "<text x=\"291\" y=\"-10\" class=\"axis-label\">300</text>\n",
      "<text x=\"391\" y=\"-10\" class=\"axis-label\">400</text>\n",
      "<text x=\"491\" y=\"-10\" class=\"axis-label\">500</text>\n",
      "<text x=\"591\" y=\"-10\" class=\"axis-label\">600</text>\n"
     ]
    }
   ],
   "source": [
    "s = '\\n'.join(f'<text x=\"{i-9}\" y=\"-10\" class=\"axis-label\">{i}</text>'\n",
    "         for i in range(200, 700, 100))\n",
    "pyperclip.copy(s)\n",
    "print(s)\n"
   ]
  },
  {
   "cell_type": "code",
   "execution_count": 32,
   "id": "ec6f4c35-9880-4cc2-8b41-c93ced0dc8fd",
   "metadata": {},
   "outputs": [
    {
     "name": "stdout",
     "output_type": "stream",
     "text": [
      "<text x=\"-25\" y=\"-297\">-300</text>\n",
      "<text x=\"-25\" y=\"-197\">-200</text>\n",
      "<text x=\"-25\" y=\"-97\">-100</text>\n"
     ]
    }
   ],
   "source": [
    "s = '\\n'.join(f'<text x=\"-25\" y=\"{i+3}\">{i}</text>'\n",
    "              for i in range(-300, 0, 100))\n",
    "pyperclip.copy(s)\n",
    "print(s)\n"
   ]
  },
  {
   "cell_type": "code",
   "execution_count": 33,
   "id": "48f376b2-b775-495a-addf-b5f6705a3156",
   "metadata": {},
   "outputs": [
    {
     "name": "stdout",
     "output_type": "stream",
     "text": [
      "<line x1=\"-25\" y1=\"-300\" x2=\"650\" y2=\"-300\"/>\n",
      "<line x1=\"-25\" y1=\"-200\" x2=\"650\" y2=\"-200\"/>\n",
      "<line x1=\"-25\" y1=\"-100\" x2=\"650\" y2=\"-100\"/>\n"
     ]
    }
   ],
   "source": [
    "s = '\\n'.join(f'<line x1=\"-25\" y1=\"{i}\" x2=\"650\" y2=\"{i}\"/>'\n",
    "              for i in range(-300, 0, 100))\n",
    "pyperclip.copy(s)\n",
    "print(s)\n"
   ]
  },
  {
   "cell_type": "code",
   "execution_count": 34,
   "id": "3c6f57f7-fed2-46db-a3b8-f685a720c359",
   "metadata": {},
   "outputs": [
    {
     "name": "stdout",
     "output_type": "stream",
     "text": [
      "C 168.0, 112.0 144.0, 78.0 144.0, 24.0\n",
      "C 144.0, -78.0 233.0, -112.0 278.0, -112.0\n"
     ]
    }
   ],
   "source": [
    "for t in typed_commands[1:3]:\n",
    "    print(t)\n",
    "    "
   ]
  },
  {
   "cell_type": "code",
   "execution_count": 35,
   "id": "f5afd301-cbb6-4604-a716-3bb22d027ef8",
   "metadata": {},
   "outputs": [
    {
     "name": "stdout",
     "output_type": "stream",
     "text": [
      "<path d=\"M 213.0, 112.0 c -45.0, 0.0 -69.0, -34.0 -69.0, -88.0\" class=\"special\"/>\n"
     ]
    }
   ],
   "source": [
    "with io.StringIO() as fp:\n",
    "    for t in typed_commands[:2]:\n",
    "        match t:\n",
    "            case CubicBezierAbs() as b:\n",
    "                print(f'{b.to_rel()}', file=fp)\n",
    "            case _:\n",
    "                print(f'{t}', file=fp)\n",
    "    s = fp.getvalue()\n",
    "    \n",
    "as_path = f'<path d=\\\"{\" \".join(line.strip() for line in s.splitlines())}\\\" class=\"special\"/>'\n",
    "print(as_path)\n",
    "pyperclip.copy(as_path)"
   ]
  },
  {
   "cell_type": "code",
   "execution_count": 36,
   "id": "08f5a321-1392-4105-8d81-de0d8707dd17",
   "metadata": {},
   "outputs": [
    {
     "name": "stdout",
     "output_type": "stream",
     "text": [
      "M 213 112\n",
      "c -45 0 -69 -34 -69 -88\n",
      "c 0 -102 89 -136 134 -136\n",
      "s 69 34 69 88\n",
      "c 0 102 -89 136 -134 136\n",
      "z\n",
      "M 245 136\n",
      "c 144 0 246 -65 246 -136\n",
      "s -102 -136 -246 -136\n",
      "s -245 65 -245 136\n",
      "s 101 136 245 136\n",
      "z\n"
     ]
    }
   ],
   "source": [
    "RAW_CMD_RE = regex.compile(r'(?ix)[clmsvz](\\s+(-?\\d+(\\.d+)?))*')\n",
    "\n",
    "def reformat_path_def(path_def, leader_size=30):\n",
    "    leader = ' ' * leader_size\n",
    "    return '\\n'.join(f'{leader}{m[0]}' for m in RAW_CMD_RE.finditer(path_def))\n",
    "\n",
    "print(reformat_path_def('M 213 112                 c -45 0 -69 -34 -69 -88                 c 0 -102 89 -136 134 -136                 s 69 34 69 88                 c 0 102 -89 136 -134 136                 z                 M 245 136                 c 144 0 246 -65 246 -136                 s -102 -136 -246 -136                 s -245 65 -245 136                 s 101 136 245 136                 z', leader_size=0))"
   ]
  },
  {
   "cell_type": "code",
   "execution_count": 44,
   "id": "58bad4d1-2c64-47fb-a074-e8381cca97e7",
   "metadata": {
    "scrolled": true,
    "tags": []
   },
   "outputs": [],
   "source": [
    "import typing\n",
    "\n",
    "class CoordinatePair(typing.NamedTuple):\n",
    "    x: int\n",
    "    y: int\n",
    "    \n",
    "    def __str__(self):\n",
    "        return f' {self.x}, {self.y}'\n",
    "        \n",
    "    def __repr__(self):\n",
    "        return f'{self.__class__.__name__}(x={self.x}, y={self.y})'\n",
    "    \n",
    "    def __add__(self, other):\n",
    "        return CoordinatePair(self.x + other.x, self.y + other.y)\n",
    "    \n",
    "    def __sub__(self, other):\n",
    "        return CoordinatePair(self.x - other.x, self.y - other.y)\n",
    "    \n",
    "    def __rmul__(self, other):\n",
    "        match other:\n",
    "            case int() | float() as p:\n",
    "                return CoordinatePair(p * self.x, p * self.y)\n",
    "            case _:\n",
    "                raise TypeError\n",
    "    \n",
    "class SimpleCommand():\n",
    "    \n",
    "    def __init__(self, command, coordinates: list[CoordinatePair]):\n",
    "        \n",
    "        match command:\n",
    "            case list() as l:\n",
    "                self.command = l[0]\n",
    "            case _:\n",
    "                self.command = command\n",
    "                \n",
    "        self.coordinates = coordinates\n",
    "    \n",
    "    def __str__(self):\n",
    "        with io.StringIO() as sp:\n",
    "            prints = partial(print, file=sp)\n",
    "            prints(self.command, end='     ')\n",
    "            if self.coordinates:\n",
    "                for coordinate in self.coordinates:\n",
    "                    prints(coordinate)\n",
    "                    prints('      ', end='')\n",
    "            return sp.getvalue()\n",
    "        \n",
    "    def __repr__(self):\n",
    "        with io.StringIO() as sp:\n",
    "            prints = partial(print, end='', file=sp)\n",
    "            prints(f'{self.__class__.__name__}(command=\"{self.command}\", ')\n",
    "            prints('coordinates=[')\n",
    "            coordinates_str = ', '.join([f'{pair!r}' for pair \n",
    "                                         in self.coordinates])\n",
    "            prints(f'{coordinates_str}]')\n",
    "            return sp.getvalue()\n",
    "                \n",
    "                \n",
    "def parse_coordinates(coordinate_str):\n",
    "    if not s:\n",
    "        return\n",
    "    return CoordinatePair(*(int(s) for s in coordinate_str.split()))\n",
    "\n",
    "def parse_command(capturesdict) -> SimpleCommand:\n",
    "    return SimpleCommand(command=capturesdict['command'][0], \n",
    "                         coordinates=[parse_coordinates(c) for c \n",
    "                                      in capturesdict['coordinates']])\n",
    "\n",
    "CMD_WITH_PAIRED_ARGS_RE = \\\n",
    "    regex.compile(r'(?ix)(?P<command>[clmsvz])'\n",
    "                  r'(\\s+(?P<coordinates>'\n",
    "                  r'    -?\\d+(\\.\\d+)?'\n",
    "                  r'\\s+'\n",
    "                  r'    -?\\d+(\\.\\d+)?'\n",
    "                  r'))*')\n",
    "\n",
    "def get_simple_commands(s: str) -> Generator[SimpleCommand]:\n",
    "    for m in CMD_WITH_PAIRED_ARGS_RE.finditer(s):\n",
    "        d = m.capturesdict()\n",
    "        parsed_command = parse_command(d)\n",
    "        yield parsed_command"
   ]
  },
  {
   "cell_type": "code",
   "execution_count": 46,
   "id": "d9ee1c1f-d02f-47ef-b595-92abcbe1762f",
   "metadata": {
    "collapsed": true,
    "jupyter": {
     "outputs_hidden": true
    },
    "scrolled": true,
    "tags": []
   },
   "outputs": [
    {
     "name": "stdout",
     "output_type": "stream",
     "text": [
      "M      213, 112\n",
      "      \n",
      "c      -45, 0\n",
      "       -69, -34\n",
      "       -69, -88\n",
      "      \n",
      "c      0, -102\n",
      "       89, -136\n",
      "       134, -136\n",
      "      \n",
      "s      69, 34\n",
      "       69, 88\n",
      "      \n",
      "c      0, 102\n",
      "       -89, 136\n",
      "       -134, 136\n",
      "      \n",
      "z     \n",
      "M      245, 136\n",
      "      \n",
      "c      144, 0\n",
      "       246, -65\n",
      "       246, -136\n",
      "      \n",
      "s      -102, -136\n",
      "       -246, -136\n",
      "      \n",
      "s      -245, 65\n",
      "       -245, 136\n",
      "      \n",
      "s      101, 136\n",
      "       245, 136\n",
      "      \n",
      "z     \n"
     ]
    }
   ],
   "source": [
    "s = 'M 213 112                 c -45 0 -69 -34 -69 -88                 c 0 -102 89 -136 134 -136                 s 69 34 69 88                 c 0 102 -89 136 -134 136                 z                 M 245 136                 c 144 0 246 -65 246 -136                 s -102 -136 -246 -136                 s -245 65 -245 136                 s 101 136 245 136                 z'\n",
    "\n",
    "for cmd in get_simple_commands(s):\n",
    "    print(cmd)\n"
   ]
  },
  {
   "cell_type": "code",
   "execution_count": 43,
   "id": "62703f5d-8434-42d9-8f5e-afe20d2b6921",
   "metadata": {},
   "outputs": [
    {
     "name": "stdout",
     "output_type": "stream",
     "text": [
      "<path d=\"M  213, 112 C  168, 112  144, 78  144, 24\" class=\"absolute\"/>\n",
      "<path d=\"M  144, 24 C  144, -78  233, -112  278, -112\" class=\"absolute\"/>\n",
      "<path d=\"M  278, -112 C  323, -112  347, -78  347, -24\" class=\"absolute\"/>\n",
      "<path d=\"M  347, -24 C  347, 78  258, 112  213, 112\" class=\"absolute\"/>\n",
      "<path d=\"M  245, 136 C  389, 136  491, 71  491, 0\" class=\"absolute\"/>\n",
      "<path d=\"M  491, 0 C  491, -71  389, -136  245, -136\" class=\"absolute\"/>\n",
      "<path d=\"M  245, -136 C  101, -136  0, -71  0, 0\" class=\"absolute\"/>\n",
      "<path d=\"M  0, 0 C  0, 71  101, 136  245, 136\" class=\"absolute\"/>\n"
     ]
    }
   ],
   "source": [
    "def get_abs_cubic_beziers(commands: Iterator[SimpleCommand]) \\\n",
    "        -> Generator[list[CoordinatePair]]:\n",
    "    for cmd in commands:\n",
    "        match cmd.command:\n",
    "            case 'M':\n",
    "                start_point = cmd.coordinates[0]\n",
    "            case 'c':\n",
    "                control_points = \\\n",
    "                    [start_point] + \\\n",
    "                    [start_point + coordinate for coordinate in cmd.coordinates]\n",
    "                start_point = control_points[-1]\n",
    "                previous_bezier = control_points\n",
    "                yield control_points\n",
    "            case 's':\n",
    "                control_points = [start_point] \\\n",
    "                               + [2 * start_point - previous_bezier[2]] \\\n",
    "                               + [start_point + coordinate \n",
    "                                  for coordinate in cmd.coordinates]\n",
    "                start_point = control_points[-1]\n",
    "                previous_bezier = control_points\n",
    "                yield control_points\n",
    "            case 'z':\n",
    "                start_point = []\n",
    "                previous_bezier = []\n",
    "\n",
    "def get_paths_from_control_points(control_points):\n",
    "    s = f'<path d=\"M {control_points[0]!s} C '\n",
    "    for cp in control_points[1:4]:\n",
    "        s += f'{cp!s} '\n",
    "    s = s.strip() + '\" class=\"absolute\"/>'\n",
    "    return s.strip()\n",
    "                \n",
    "beziers = pipe(s, get_simple_commands, get_abs_cubic_beziers, list)\n",
    "\n",
    "for control_points in beziers:\n",
    "    print(get_paths_from_control_points(control_points))\n",
    "\n",
    "\n"
   ]
  },
  {
   "cell_type": "code",
   "execution_count": null,
   "id": "5a75dd7c-e7ef-469e-b41d-524d7161f112",
   "metadata": {},
   "outputs": [],
   "source": [
    "import inspect\n",
    "\n",
    "def get_members(t):\n",
    "    for m, n in inspect.getmembers(t):\n",
    "        print(m)\n",
    "        match n:\n",
    "            case list() as l:\n",
    "                for p in l:\n",
    "                    print(f'     {p}')\n",
    "            case dict() as d:\n",
    "                for k, v in d.items():\n",
    "                    print(f'     {k}: {v}')\n",
    "            case _:\n",
    "                print(f'     {n}')"
   ]
  }
 ],
 "metadata": {
  "kernelspec": {
   "display_name": "Python 3 (ipykernel)",
   "language": "python",
   "name": "python3"
  },
  "language_info": {
   "codemirror_mode": {
    "name": "ipython",
    "version": 3
   },
   "file_extension": ".py",
   "mimetype": "text/x-python",
   "name": "python",
   "nbconvert_exporter": "python",
   "pygments_lexer": "ipython3",
   "version": "3.10.11"
  }
 },
 "nbformat": 4,
 "nbformat_minor": 5
}
