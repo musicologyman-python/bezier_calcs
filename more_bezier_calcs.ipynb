{
 "cells": [
  {
   "cell_type": "code",
   "execution_count": 1,
   "id": "5a75dd7c-e7ef-469e-b41d-524d7161f112",
   "metadata": {},
   "outputs": [],
   "source": [
    "import inspect\n",
    "\n",
    "def get_members(t):\n",
    "    for m, n in inspect.getmembers(t):\n",
    "        print(m)\n",
    "        match n:\n",
    "            case list() as l:\n",
    "                for p in l:\n",
    "                    print(f'     {p}')\n",
    "            case dict() as d:\n",
    "                for k, v in d.items():\n",
    "                    print(f'     {k}: {v}')\n",
    "            case _:\n",
    "                print(f'     {n}')\n",
    "                \n",
    "                "
   ]
  },
  {
   "cell_type": "code",
   "execution_count": 2,
   "id": "4158ac81-96bb-4369-adab-672df5c8157b",
   "metadata": {
    "tags": []
   },
   "outputs": [],
   "source": [
    "from sympy import sympify, diff, Matrix, init_printing, Symbol, solve\n",
    "\n",
    "init_printing()"
   ]
  },
  {
   "cell_type": "code",
   "execution_count": 3,
   "id": "4db99d36-b715-4e2b-aaba-6b51065680a0",
   "metadata": {
    "tags": []
   },
   "outputs": [
    {
     "data": {
      "image/png": "[encoded data removed]",
      "text/latex": [
       "$\\displaystyle t^{k} \\left(1 - t\\right)^{- k + n} {\\binom{n}{k}}$"
      ],
      "text/plain": [
       " k        -k + n ⎛n⎞\n",
       "t ⋅(1 - t)      ⋅⎜ ⎟\n",
       "                 ⎝k⎠"
      ]
     },
     "execution_count": 3,
     "metadata": {},
     "output_type": "execute_result"
    }
   ],
   "source": [
    "bernstein_polynomial = sympify('binomial(n, k) * t**k * (1 - t)**(n - k)')\n",
    "bernstein_polynomial"
   ]
  },
  {
   "cell_type": "code",
   "execution_count": 4,
   "id": "e6be1830-22cb-49a1-9de7-dd6c9a2aaa59",
   "metadata": {
    "tags": []
   },
   "outputs": [
    {
     "name": "stdout",
     "output_type": "stream",
     "text": [
      "P_0 = (1 - t)**3\n",
      "P_1 = 3*t*(1 - t)**2\n",
      "P_2 = 3*t**2*(1 - t)\n",
      "P_3 = t**3\n"
     ]
    }
   ],
   "source": [
    "for k in range(4):\n",
    "    print(f\"P_{k} = {bernstein_polynomial.subs({'n': 3, 'k': k})}\")"
   ]
  },
  {
   "cell_type": "code",
   "execution_count": 5,
   "id": "7340c509-f5f4-4773-90ff-a3d16971b3eb",
   "metadata": {
    "tags": []
   },
   "outputs": [
    {
     "data": {
      "image/png": "[encoded data removed]",
      "text/latex": [
       "$\\displaystyle t^{k} \\left(1 - t\\right)^{3 - k} {\\binom{3}{k}}$"
      ],
      "text/plain": [
       " k        3 - k ⎛3⎞\n",
       "t ⋅(1 - t)     ⋅⎜ ⎟\n",
       "                ⎝k⎠"
      ]
     },
     "execution_count": 5,
     "metadata": {},
     "output_type": "execute_result"
    }
   ],
   "source": [
    "cubic_bernstein_polynomial = bernstein_polynomial.subs({'n': 3})\n",
    "b3 = cubic_bernstein_polynomial\n",
    "b3"
   ]
  },
  {
   "cell_type": "code",
   "execution_count": 6,
   "id": "a665bd53-7ff3-453e-bc30-737a328643ff",
   "metadata": {
    "tags": []
   },
   "outputs": [
    {
     "name": "stdout",
     "output_type": "stream",
     "text": [
      "b_0 = (1 - t)**3\n",
      "b_1 = 3*t*(1 - t)**2\n",
      "b_2 = 3*t**2*(1 - t)\n",
      "b_3 = t**3\n"
     ]
    }
   ],
   "source": [
    "def get_cubic_bernstein_polynomial(k):\n",
    "    return b3.subs({'k': k})\n",
    "\n",
    "for k in range(4):\n",
    "    print(f'b_{k} = {get_cubic_bernstein_polynomial(k)}')"
   ]
  },
  {
   "cell_type": "code",
   "execution_count": 7,
   "id": "d4a84e22-d392-46b1-8a6f-632e49959400",
   "metadata": {
    "tags": []
   },
   "outputs": [
    {
     "data": {
      "image/png": "[encoded data removed]",
      "text/latex": [
       "$\\displaystyle \\left[ P_{0}, \\  P_{1}, \\  P_{2}, \\  P_{3}\\right]$"
      ],
      "text/plain": [
       "[P₀, P₁, P₂, P₃]"
      ]
     },
     "execution_count": 7,
     "metadata": {},
     "output_type": "execute_result"
    }
   ],
   "source": [
    "p = [Symbol(f'P_{i}') for i in range(4)]\n",
    "p"
   ]
  },
  {
   "cell_type": "code",
   "execution_count": 8,
   "id": "c2afb3ee-4320-4049-8659-5f9a2c10d390",
   "metadata": {
    "tags": []
   },
   "outputs": [
    {
     "name": "stdout",
     "output_type": "stream",
     "text": [
      "P_0*(1 - t)**3 + 3*P_1*t*(1 - t)**2 + 3*P_2*t**2*(1 - t) + P_3*t**3\n"
     ]
    },
    {
     "data": {
      "image/png": "[encoded data removed]",
      "text/latex": [
       "$\\displaystyle P_{0} \\left(1 - t\\right)^{3} + 3 P_{1} t \\left(1 - t\\right)^{2} + 3 P_{2} t^{2} \\cdot \\left(1 - t\\right) + P_{3} t^{3}$"
      ],
      "text/plain": [
       "          3                 2         2               3\n",
       "P₀⋅(1 - t)  + 3⋅P₁⋅t⋅(1 - t)  + 3⋅P₂⋅t ⋅(1 - t) + P₃⋅t "
      ]
     },
     "execution_count": 8,
     "metadata": {},
     "output_type": "execute_result"
    }
   ],
   "source": [
    "cubic_bezier = sum([b3.subs({'k': i}) * p[i] for i in range(4)])\n",
    "print(cubic_bezier)\n",
    "cubic_bezier"
   ]
  },
  {
   "cell_type": "code",
   "execution_count": 9,
   "id": "8250c4e6-229f-4bd6-a449-766d22b1c7f7",
   "metadata": {
    "tags": []
   },
   "outputs": [
    {
     "name": "stdout",
     "output_type": "stream",
     "text": [
      "-3*P_0*(1 - t)**2 + 3*P_1*t*(2*t - 2) + 3*P_1*(1 - t)**2 - 3*P_2*t**2 + 6*P_2*t*(1 - t) + 3*P_3*t**2\n"
     ]
    },
    {
     "data": {
      "image/png": "[encoded data removed]",
      "text/latex": [
       "$\\displaystyle - 3 P_{0} \\left(1 - t\\right)^{2} + 3 P_{1} t \\left(2 t - 2\\right) + 3 P_{1} \\left(1 - t\\right)^{2} - 3 P_{2} t^{2} + 6 P_{2} t \\left(1 - t\\right) + 3 P_{3} t^{2}$"
      ],
      "text/plain": [
       "              2                                  2         2                          2\n",
       "- 3⋅P₀⋅(1 - t)  + 3⋅P₁⋅t⋅(2⋅t - 2) + 3⋅P₁⋅(1 - t)  - 3⋅P₂⋅t  + 6⋅P₂⋅t⋅(1 - t) + 3⋅P₃⋅t "
      ]
     },
     "execution_count": 9,
     "metadata": {},
     "output_type": "execute_result"
    }
   ],
   "source": [
    "d1cubic_bezier = diff(cubic_bezier, 't')\n",
    "print(d1cubic_bezier)\n",
    "d1cubic_bezier"
   ]
  },
  {
   "cell_type": "code",
   "execution_count": 10,
   "id": "0c243769-f2b1-49da-b68f-2b8b140729a6",
   "metadata": {
    "tags": []
   },
   "outputs": [],
   "source": [
    "class Point():\n",
    "    \n",
    "    def __init__(self, x: float, y:float):\n",
    "        self.x = x\n",
    "        self.y = y\n",
    "    \n",
    "    def to_matrix(self):\n",
    "        return Matrix([ self.x, self.y ])\n",
    "    \n",
    "    def __add__(self, other):\n",
    "        match other:\n",
    "            case Point():\n",
    "                return Point(self.x + other.x, self.y + other.y)\n",
    "            case _:\n",
    "                raise TypeError\n",
    "                \n",
    "    def __sub__(self, other):\n",
    "        match other:\n",
    "            case Point():\n",
    "                return Point(self.x - other.x, self.y - other.y)\n",
    "            case _:\n",
    "                raise TypeError\n",
    "                \n",
    "    def __str__(self):\n",
    "        # return f'{self.x}, {self.y}'\n",
    "        return self.__repr__()\n",
    "    \n",
    "    \n",
    "    def __repr__(self):\n",
    "        return f'{self.__class__.__name__}(x = {self.x}, y={self.y})'\n",
    "                "
   ]
  },
  {
   "cell_type": "code",
   "execution_count": 11,
   "id": "31c69cca-da93-45c4-bdf1-0fb2a89394cf",
   "metadata": {
    "tags": []
   },
   "outputs": [],
   "source": [
    "import io\n",
    "\n",
    "from collections.abc import Generator, Iterator\n",
    "from functools import partial\n",
    "from itertools import chain, pairwise\n",
    "from pprint import pprint\n",
    "\n",
    "import lxml.etree as etree\n",
    "import pyperclip\n",
    "import regex\n",
    "\n",
    "from more_itertools import chunked, flatten\n",
    "\n",
    "from toolz.functoolz import compose_left, curry, pipe\n",
    "from toolz import curried\n"
   ]
  },
  {
   "cell_type": "code",
   "execution_count": 12,
   "id": "42363ab5-ca2c-400f-ad72-12feb57916f3",
   "metadata": {
    "scrolled": true,
    "tags": []
   },
   "outputs": [],
   "source": [
    "NSMAP = { None: 'http://www.w3.org/2000/svg', \n",
    "         'xlink': 'http://www.w3.org/1999/xlink' }\n",
    "\n",
    "COMMAND_RE = regex.compile(r'''(?ix)(?P<command>[clmsvz])\n",
    "                               (\\s+(?P<arg>-?\\d+(\\.d+)?))*''')\n",
    "\n"
   ]
  },
  {
   "cell_type": "code",
   "execution_count": 13,
   "id": "d197ac4b-b4f2-4056-8b8f-936072b891a3",
   "metadata": {
    "scrolled": true,
    "tags": []
   },
   "outputs": [],
   "source": [
    "def get_element_string(e):\n",
    "    ''' returns the string representation of the an XML element \n",
    "        and its children\n",
    "    '''\n",
    "    match e:\n",
    "        case etree.ElementBase:\n",
    "            return etree.tostring(e, pretty_print=True).decode('utf-8')\n",
    "        case _:\n",
    "            print(e)\n",
    "\n",
    "print_element = compose_left(get_element_string, print)\n",
    "\n"
   ]
  },
  {
   "cell_type": "code",
   "execution_count": 14,
   "id": "dbc827bd-6c06-4fe8-86c5-b2ed1b99d4b2",
   "metadata": {},
   "outputs": [
    {
     "name": "stdout",
     "output_type": "stream",
     "text": [
      "<Element {http://www.w3.org/2000/svg}g at 0x112a74580>\n"
     ]
    },
    {
     "ename": "TypeError",
     "evalue": "expected string or buffer",
     "output_type": "error",
     "traceback": [
      "\u001b[0;31m---------------------------------------------------------------------------\u001b[0m",
      "\u001b[0;31mTypeError\u001b[0m                                 Traceback (most recent call last)",
      "Input \u001b[0;32mIn [14]\u001b[0m, in \u001b[0;36m<cell line: 15>\u001b[0;34m()\u001b[0m\n\u001b[1;32m     12\u001b[0m     \u001b[38;5;28;01mfor\u001b[39;00m element \u001b[38;5;129;01min\u001b[39;00m elements:\n\u001b[1;32m     13\u001b[0m         \u001b[38;5;28mprint\u001b[39m(eliminate_whitespace(get_element_string(element)))\n\u001b[0;32m---> 15\u001b[0m \u001b[43mpipe\u001b[49m\u001b[43m(\u001b[49m\u001b[43mread_elements\u001b[49m\u001b[43m(\u001b[49m\u001b[43m)\u001b[49m\u001b[43m,\u001b[49m\u001b[43m \u001b[49m\u001b[43mprint_elements\u001b[49m\u001b[43m)\u001b[49m\n",
      "File \u001b[0;32m/usr/local/lib/python3.10/site-packages/toolz/functoolz.py:630\u001b[0m, in \u001b[0;36mpipe\u001b[0;34m(data, *funcs)\u001b[0m\n\u001b[1;32m    610\u001b[0m \u001b[38;5;124;03m\"\"\" Pipe a value through a sequence of functions\u001b[39;00m\n\u001b[1;32m    611\u001b[0m \n\u001b[1;32m    612\u001b[0m \u001b[38;5;124;03mI.e. ``pipe(data, f, g, h)`` is equivalent to ``h(g(f(data)))``\u001b[39;00m\n\u001b[0;32m   (...)\u001b[0m\n\u001b[1;32m    627\u001b[0m \u001b[38;5;124;03m    thread_last\u001b[39;00m\n\u001b[1;32m    628\u001b[0m \u001b[38;5;124;03m\"\"\"\u001b[39;00m\n\u001b[1;32m    629\u001b[0m \u001b[38;5;28;01mfor\u001b[39;00m func \u001b[38;5;129;01min\u001b[39;00m funcs:\n\u001b[0;32m--> 630\u001b[0m     data \u001b[38;5;241m=\u001b[39m \u001b[43mfunc\u001b[49m\u001b[43m(\u001b[49m\u001b[43mdata\u001b[49m\u001b[43m)\u001b[49m\n\u001b[1;32m    631\u001b[0m \u001b[38;5;28;01mreturn\u001b[39;00m data\n",
      "Input \u001b[0;32mIn [14]\u001b[0m, in \u001b[0;36mprint_elements\u001b[0;34m(elements)\u001b[0m\n\u001b[1;32m     11\u001b[0m \u001b[38;5;28;01mdef\u001b[39;00m \u001b[38;5;21mprint_elements\u001b[39m(elements):\n\u001b[1;32m     12\u001b[0m     \u001b[38;5;28;01mfor\u001b[39;00m element \u001b[38;5;129;01min\u001b[39;00m elements:\n\u001b[0;32m---> 13\u001b[0m         \u001b[38;5;28mprint\u001b[39m(\u001b[43meliminate_whitespace\u001b[49m\u001b[43m(\u001b[49m\u001b[43mget_element_string\u001b[49m\u001b[43m(\u001b[49m\u001b[43melement\u001b[49m\u001b[43m)\u001b[49m\u001b[43m)\u001b[49m)\n",
      "Input \u001b[0;32mIn [14]\u001b[0m, in \u001b[0;36meliminate_whitespace\u001b[0;34m(input)\u001b[0m\n\u001b[1;32m      8\u001b[0m \u001b[38;5;28;01mdef\u001b[39;00m \u001b[38;5;21meliminate_whitespace\u001b[39m(\u001b[38;5;28minput\u001b[39m):\n\u001b[0;32m----> 9\u001b[0m     \u001b[38;5;28;01mreturn\u001b[39;00m \u001b[43mregex\u001b[49m\u001b[38;5;241;43m.\u001b[39;49m\u001b[43msub\u001b[49m\u001b[43m(\u001b[49m\u001b[38;5;124;43mr\u001b[39;49m\u001b[38;5;124;43m'\u001b[39;49m\u001b[38;5;124;43m(?<=\u001b[39;49m\u001b[38;5;124;43m\\\u001b[39;49m\u001b[38;5;124;43ms)\u001b[39;49m\u001b[38;5;124;43m\\\u001b[39;49m\u001b[38;5;124;43ms+\u001b[39;49m\u001b[38;5;124;43m'\u001b[39;49m\u001b[43m,\u001b[49m\u001b[43m \u001b[49m\u001b[38;5;124;43m'\u001b[39;49m\u001b[38;5;124;43m'\u001b[39;49m\u001b[43m,\u001b[49m\u001b[43m \u001b[49m\u001b[38;5;28;43minput\u001b[39;49m\u001b[43m)\u001b[49m\n",
      "File \u001b[0;32m/usr/local/lib/python3.10/site-packages/regex/regex.py:278\u001b[0m, in \u001b[0;36msub\u001b[0;34m(pattern, repl, string, count, flags, pos, endpos, concurrent, timeout, ignore_unused, **kwargs)\u001b[0m\n\u001b[1;32m    272\u001b[0m \u001b[38;5;124;03m\"\"\"Return the string obtained by replacing the leftmost (or rightmost with a\u001b[39;00m\n\u001b[1;32m    273\u001b[0m \u001b[38;5;124;03mreverse pattern) non-overlapping occurrences of the pattern in string by the\u001b[39;00m\n\u001b[1;32m    274\u001b[0m \u001b[38;5;124;03mreplacement repl. repl can be either a string or a callable; if a string,\u001b[39;00m\n\u001b[1;32m    275\u001b[0m \u001b[38;5;124;03mbackslash escapes in it are processed; if a callable, it's passed the match\u001b[39;00m\n\u001b[1;32m    276\u001b[0m \u001b[38;5;124;03mobject and must return a replacement string to be used.\"\"\"\u001b[39;00m\n\u001b[1;32m    277\u001b[0m pat \u001b[38;5;241m=\u001b[39m _compile(pattern, flags, ignore_unused, kwargs, \u001b[38;5;28;01mTrue\u001b[39;00m)\n\u001b[0;32m--> 278\u001b[0m \u001b[38;5;28;01mreturn\u001b[39;00m \u001b[43mpat\u001b[49m\u001b[38;5;241;43m.\u001b[39;49m\u001b[43msub\u001b[49m\u001b[43m(\u001b[49m\u001b[43mrepl\u001b[49m\u001b[43m,\u001b[49m\u001b[43m \u001b[49m\u001b[43mstring\u001b[49m\u001b[43m,\u001b[49m\u001b[43m \u001b[49m\u001b[43mcount\u001b[49m\u001b[43m,\u001b[49m\u001b[43m \u001b[49m\u001b[43mpos\u001b[49m\u001b[43m,\u001b[49m\u001b[43m \u001b[49m\u001b[43mendpos\u001b[49m\u001b[43m,\u001b[49m\u001b[43m \u001b[49m\u001b[43mconcurrent\u001b[49m\u001b[43m,\u001b[49m\u001b[43m \u001b[49m\u001b[43mtimeout\u001b[49m\u001b[43m)\u001b[49m\n",
      "\u001b[0;31mTypeError\u001b[0m: expected string or buffer"
     ]
    }
   ],
   "source": [
    "def read_elements(filename='./svg/notes_only_formatted.svg'):\n",
    "    ''' For the given svg file, read all group elements (`g`) that are direct\n",
    "        children of any `defs` elements.\n",
    "    '''\n",
    "    root = etree.parse(filename).getroot()\n",
    "    return root.findall('.//defs/g', NSMAP)\n",
    "\n",
    "def eliminate_whitespace(input):\n",
    "    return regex.sub(r'(?<=\\s)\\s+', '', input)\n",
    "\n",
    "def print_elements(elements):\n",
    "    for element in elements:\n",
    "        print(eliminate_whitespace(get_element_string(element)))\n",
    "    \n",
    "pipe(read_elements(), print_elements)\n",
    "\n",
    "    "
   ]
  },
  {
   "cell_type": "code",
   "execution_count": null,
   "id": "0e0f7733-b2b1-466e-897d-41f950b10891",
   "metadata": {},
   "outputs": [],
   "source": [
    "import operator\n",
    "\n",
    "def get_paths(element):\n",
    "    return list(element.findall('path', NSMAP))\n",
    "\n",
    "path_defs = pipe(read_elements(), \n",
    "                 curried.map(get_paths),\n",
    "                 flatten,\n",
    "                 curried.map(lambda e: e.attrib['d']),\n",
    "                 curried.map(eliminate_whitespace),\n",
    "                 list)\n",
    "\n",
    "path_defs\n",
    "\n",
    "with open('path_defs.txt', encoding='utf-8', mode='w') as fp:\n",
    "    for path_def in path_defs:\n",
    "        print(path_def, file=fp)"
   ]
  },
  {
   "cell_type": "code",
   "execution_count": null,
   "id": "d97a49bc-ce1e-49ed-8047-805748086cf3",
   "metadata": {
    "scrolled": true,
    "tags": []
   },
   "outputs": [],
   "source": [
    "def parse_arg_strings(arg_strings):\n",
    "    args = [float(arg) for arg in arg_strings]\n",
    "    for i in range(0, len(args), 2):\n",
    "        yield Point(args[i], args[i+1])\n",
    "\n",
    "def parse_path_def(path_def):\n",
    "    ''' For a path definition, that is the `d` parameter of an svg `path`\n",
    "        element, return a dictionary for each command with the corresponding\n",
    "        arguments, if any.\n",
    "    '''\n",
    "    for m in COMMAND_RE.finditer(path_def):\n",
    "        d = m.capturesdict()\n",
    "        command = d['command'][0]\n",
    "        args = d['arg']\n",
    "        if args:\n",
    "            yield {'command': command,\n",
    "                    'args': list(parse_arg_strings(args))}\n",
    "        else:\n",
    "            yield {'command': command}\n",
    "\n",
    "        \n",
    "def get_path_defs(template):\n",
    "    ''' return the value of the path definition attribute `d`\n",
    "        for the first path element found in the template element parameter\n",
    "    '''\n",
    "    return (e.attrib['d'] for e in template.findall('path', NSMAP))\n",
    "    \n",
    "\n",
    "\n",
    "# path_def_list = []\n",
    "\n",
    "# template_count = 0\n",
    "# for template in read_elements():\n",
    "#     path_defs = list(get_path_defs(template))\n",
    "#     print(f'There are {len(path_defs)} path_defs')\n",
    "#     for path_def in path_defs:\n",
    "#         template_count += 1\n",
    "#         print(template_count)\n",
    "        \n",
    "#         if template_count == 5:\n",
    "#             print_element(path_def)\n",
    "        \n",
    "#         # print(regex.sub(r'(?<=\\s)\\s+', '', path_def))\n",
    "#         print()\n",
    "#         path_def_list.append(list(parse_path_def(path_def)))\n",
    "#         pprint(path_def_list[-1])\n",
    "#         print()"
   ]
  },
  {
   "cell_type": "code",
   "execution_count": null,
   "id": "f137fab4-ec8a-42ba-af73-7245825a57e4",
   "metadata": {
    "tags": []
   },
   "outputs": [],
   "source": [
    "def get_points(commands):\n",
    "    for command in commands:\n",
    "        if 'args' in command:\n",
    "            yield {'command': command['command'], \n",
    "                   'args': [Point(*arg) for arg in command['args']]}\n",
    "        else:\n",
    "            yield command\n",
    "            \n",
    "\n",
    "commands_in_point_form = list(get_points(path_def_list))\n",
    "pprint(commands_in_point_form)"
   ]
  },
  {
   "cell_type": "code",
   "execution_count": null,
   "id": "fc617051-eca3-4685-abae-9957af091c27",
   "metadata": {},
   "outputs": [],
   "source": [
    "# [Point(*arg) for arg in commands_in_point_form[0][0]['args']]"
   ]
  },
  {
   "cell_type": "code",
   "execution_count": 36,
   "id": "4c346c6c-0e0e-412f-8de3-c942e9d8a640",
   "metadata": {
    "tags": []
   },
   "outputs": [
    {
     "ename": "IndexError",
     "evalue": "list index out of range",
     "output_type": "error",
     "traceback": [
      "\u001b[0;31m---------------------------------------------------------------------------\u001b[0m",
      "\u001b[0;31mIndexError\u001b[0m                                Traceback (most recent call last)",
      "Cell \u001b[0;32mIn[36], line 1\u001b[0m\n\u001b[0;32m----> 1\u001b[0m p0 \u001b[39m=\u001b[39m commands_in_point_form[\u001b[39m0\u001b[39;49m][\u001b[39m0\u001b[39m][\u001b[39m'\u001b[39m\u001b[39margs\u001b[39m\u001b[39m'\u001b[39m][\u001b[39m0\u001b[39m]\n\u001b[1;32m      2\u001b[0m p1 \u001b[39m=\u001b[39m commands_in_point_form[\u001b[39m0\u001b[39m][\u001b[39m1\u001b[39m][\u001b[39m'\u001b[39m\u001b[39margs\u001b[39m\u001b[39m'\u001b[39m][\u001b[39m0\u001b[39m] \u001b[39m+\u001b[39m p0\n\u001b[1;32m      3\u001b[0m p2 \u001b[39m=\u001b[39m commands_in_point_form[\u001b[39m0\u001b[39m][\u001b[39m1\u001b[39m][\u001b[39m'\u001b[39m\u001b[39margs\u001b[39m\u001b[39m'\u001b[39m][\u001b[39m1\u001b[39m] \u001b[39m+\u001b[39m p0\n",
      "\u001b[0;31mIndexError\u001b[0m: list index out of range"
     ]
    }
   ],
   "source": [
    "p0 = commands_in_point_form[0][0]['args'][0]\n",
    "p1 = commands_in_point_form[0][1]['args'][0] + p0\n",
    "p2 = commands_in_point_form[0][1]['args'][1] + p0\n",
    "p3 = commands_in_point_form[0][1]['args'][2] + p0\n",
    "\n",
    "p0.to_matrix(), p1.to_matrix(), p2.to_matrix(), p3.to_matrix()\n",
    "\n"
   ]
  },
  {
   "cell_type": "code",
   "execution_count": null,
   "id": "e9c85ba4-f53c-45b1-ba5c-4e128b420ea6",
   "metadata": {},
   "outputs": [],
   "source": [
    "def get_points(p0, control_points):\n",
    "    yield p0\n",
    "    for p in control_points:\n",
    "        yield p0 + p\n",
    "        \n",
    "vectors = [pt.to_matrix() for pt \n",
    "           in get_points(commands_in_point_form[0][0]['args'][-1], \n",
    "                         commands_in_point_form[0][1]['args'])]\n",
    "vectors\n"
   ]
  },
  {
   "cell_type": "code",
   "execution_count": null,
   "id": "fa019377-669c-469a-a60e-942607e46c8e",
   "metadata": {},
   "outputs": [],
   "source": [
    "substitution_dict = {f'P_{i}':v for i, v in enumerate(vectors)}\n",
    "substitution_dict\n"
   ]
  },
  {
   "cell_type": "code",
   "execution_count": null,
   "id": "c177096e-4af2-4fd1-bcdc-e4c0b8426f38",
   "metadata": {},
   "outputs": [],
   "source": [
    "b = cubic_bezier.subs(substitution_dict)\n",
    "b\n"
   ]
  },
  {
   "cell_type": "code",
   "execution_count": null,
   "id": "2481590c-0d75-4a1c-8d86-ba9701b2c903",
   "metadata": {},
   "outputs": [],
   "source": [
    "d1b = d1cubic_bezier.subs(substitution_dict)\n",
    "d1b\n"
   ]
  },
  {
   "cell_type": "code",
   "execution_count": null,
   "id": "bdde60f9-6d3c-4d91-b603-a01d125dec62",
   "metadata": {},
   "outputs": [],
   "source": [
    "t = Symbol('t')\n"
   ]
  },
  {
   "cell_type": "code",
   "execution_count": null,
   "id": "eb8f3809-2361-4ce7-b232-f61adc0ef2f6",
   "metadata": {},
   "outputs": [],
   "source": [
    "# Find t when the derivative of the curve w.r.t. t = 0.\n",
    "# First, we set the first derivative of the parametric equation for x = 0 to\n",
    "# determine its tangent.\n",
    "d1bx = d1b.row(0)\n",
    "solutions = [soln[t] for soln in solve(d1bx) \n",
    "             if soln[t] >= 0.0 and soln[t] <= 1.0]\n",
    "print('Value of t when x = 0: ', end='')\n",
    "pprint(solutions)\n",
    "\n",
    "print('Tangent points:')\n",
    "for solution in solutions:\n",
    "    pprint(b.subs(t, solution))\n",
    "    "
   ]
  },
  {
   "cell_type": "code",
   "execution_count": null,
   "id": "cf816daa-f88e-4e8b-80cc-05e1df541f91",
   "metadata": {},
   "outputs": [],
   "source": [
    "# Rewriting the above in a form that's easier to use in code:\n",
    "d1bx = d1b.row(0)\n",
    "solutions = (soln[t] for soln in solve(d1bx)\n",
    "             if soln[t] >= 0.0 and soln[t] <= 1.0)\n",
    "vertical_tangent_points = [b.evalf(subs={t: solution}) for solution in solutions]\n",
    "vertical_tangent_points\n"
   ]
  },
  {
   "cell_type": "code",
   "execution_count": null,
   "id": "68bf30b0-80f4-496a-b003-228c483ba984",
   "metadata": {},
   "outputs": [],
   "source": [
    "vertical_tangent_points[0][0], vertical_tangent_points[0][1]\n"
   ]
  },
  {
   "cell_type": "code",
   "execution_count": null,
   "id": "4ac555ee-54e2-4d29-8f1e-b9e8d16a49ae",
   "metadata": {},
   "outputs": [],
   "source": [
    "d1by = d1b.row(1)\n",
    "solutions = (soln[t] for soln in solve(d1by)\n",
    "             if soln[t] >= 0.0 and soln[t] <= 1.0)\n",
    "horizontal_tangent_points = [b.evalf(subs={t: solution}) for solution in solutions]\n",
    "horizontal_tangent_points\n"
   ]
  },
  {
   "cell_type": "code",
   "execution_count": null,
   "id": "d5d08e03-5247-488b-84d2-13aab2d325c7",
   "metadata": {},
   "outputs": [],
   "source": [
    "from IPython.core.display import HTML\n",
    "\n",
    "HTML(f'''<svg viewbox=\"0 0 700 600\">\n",
    "<rect width=\"700\" height=\"600\" fill=\"#fff\"/>\n",
    "<g transform=\"translate(350, 300) scale(.5, .5)\">\n",
    "<line x1=\"0\" y1=\"-550\" x2=\"0\" y2=\"550\" stroke=\"#000\"/>\n",
    "<line x1=\"-650\" y1=\"0\" x2=\"650\" y2=\"0\" stroke=\"#000\"/>\n",
    "<g id=\"note-0\" transform=\"scale(1, 1)\">\n",
    "            <path d=\"M 213 112\n",
    "                     c -45 0 -69 -34 -69 -88\n",
    "                     c 0 -102 89 -136 134 -136\n",
    "                     s 69 34 69 88\n",
    "                     c 0 102 -89 136 -134 136\n",
    "                     z\n",
    "                     M 245 136\n",
    "                     c 144 0 246 -65 246 -136\n",
    "                     s -102 -136 -246 -136\n",
    "                     s -245 65 -245 136\n",
    "                     s 101 136 245 136\n",
    "                     z\"/>\n",
    "        </g>\n",
    "        </g>\n",
    "</svg>''')\n"
   ]
  },
  {
   "cell_type": "code",
   "execution_count": null,
   "id": "57c8766b-d870-4b36-bdd6-c485dd9e37e4",
   "metadata": {
    "tags": []
   },
   "outputs": [],
   "source": [
    "import abc\n",
    "\n",
    "@dataclass(frozen=True)\n",
    "class MoveTo():\n",
    "    p: Point\n",
    "    \n",
    "    def __str__(self):\n",
    "        return f'M {self.p}'\n",
    "    \n",
    "@dataclass(frozen=True)\n",
    "class AbstractCubicBezier(abc.ABC):\n",
    "    p0: Point\n",
    "    p1: Point\n",
    "    p2: Point\n",
    "    p3: Point\n",
    " \n",
    "    @property\n",
    "    def points(self):\n",
    "        return [self.p0, self.p1, self.p2, self.p3]\n",
    "\n",
    "@dataclass(frozen=True)\n",
    "class CubicBezierAbs(AbstractCubicBezier):\n",
    "    \n",
    "    def to_rel(self):\n",
    "        return CubicBezierRel(MoveTo(self.p0), \n",
    "                              self.p1 - self.p0, \n",
    "                              self.p2 - self.p0, \n",
    "                              self.p3 - self.p0)\n",
    "    \n",
    "    def __str__(self):\n",
    "        return f'C {self.p1} {self.p2} {self.p3}'\n",
    "\n",
    "@dataclass(frozen=True, init=False)\n",
    "class CubicBezierRel(AbstractCubicBezier):\n",
    "    \n",
    "    def __init__(self, move_to, p1, p2, p3):\n",
    "        match move_to:\n",
    "            case Point() as p:\n",
    "                super().__init__(p, p1, p2, p3)\n",
    "            case MoveTo():\n",
    "                super().__init__(move_to.p, p1, p2, p3)\n",
    "            case CubicBezierAbs() as b:\n",
    "                super().__init__(b.p3, p1, p2, p3)\n",
    "        \n",
    "    def to_abs(self):\n",
    "        return CubicBezierAbs(self.p0, \n",
    "                              self.p1 + self.p0, \n",
    "                              self.p2 + self.p0, \n",
    "                              self.p3 + self.p0)\n",
    "        \n",
    "    def __str__(self):\n",
    "        return f'c {self.p1} {self.p2} {self.p3}'\n",
    "\n",
    "    \n",
    "@dataclass(frozen=True)\n",
    "class ShorthandCubicBezierRel(CubicBezierRel):\n",
    "    \n",
    "    def __init__(self, previous_bezier, p2, p3):\n",
    "        super().__init__(previous_bezier.p3,\n",
    "                              previous_bezier.p3 - previous_bezier.p2,\n",
    "                              p2,\n",
    "                              p3)\n",
    "    \n",
    "    def __str__(self):\n",
    "        return f's {self.p2} {self.p3}'\n",
    "    \n",
    "class ClosePath():\n",
    "    \n",
    "    def __str__(self):\n",
    "        return 'z'\n",
    "    \n",
    "    def __repr__(self):\n",
    "        return f'{self.__class__.__name__}()'\n",
    "\n",
    "\n",
    "for cmd in commands_in_point_form:\n",
    "    pprint(cmd)\n",
    "    "
   ]
  },
  {
   "cell_type": "code",
   "execution_count": null,
   "id": "7285af4a-0e78-4982-ae4b-091a285c5d86",
   "metadata": {},
   "outputs": [],
   "source": [
    "import json\n",
    "with open('whole_note_path.json', mode='w') as fp:\n",
    "    json.dump(get_commands(), fp, indent=4)\n",
    "    "
   ]
  },
  {
   "cell_type": "code",
   "execution_count": null,
   "id": "a210f0b5-644e-4339-8d87-d67f8bedd142",
   "metadata": {},
   "outputs": [],
   "source": [
    "def make_typed_commands(command_dicts):\n",
    "    previous_command = None\n",
    "    for d in command_dicts:\n",
    "        match d['command']:\n",
    "            case 'M':\n",
    "                move_to = MoveTo(d['args'][0])\n",
    "                previous_command = move_to\n",
    "                yield move_to\n",
    "            case 'c':\n",
    "                rel_bezier = CubicBezierRel(previous_command, *d['args'])\n",
    "                abs_bezier = rel_bezier.to_abs()\n",
    "                previous_command = abs_bezier\n",
    "                yield abs_bezier\n",
    "            case 's':\n",
    "                rel_bezier = ShorthandCubicBezierRel(previous_command, *d['args'])\n",
    "                abs_bezier = rel_bezier.to_abs()\n",
    "                yield abs_bezier\n",
    "            case 'z':\n",
    "                previous_command = None\n",
    "                yield ClosePath()\n",
    "                \n",
    "all_typed_commands = [list(make_typed_commands(c)) for c in commands_in_point_form]\n",
    "pprint(all_typed_commands)\n",
    "\n",
    "\n"
   ]
  },
  {
   "cell_type": "code",
   "execution_count": null,
   "id": "976ea2b3-6ad8-49f8-84e5-fb4a4703502c",
   "metadata": {},
   "outputs": [],
   "source": [
    "typed_commands = all_typed_commands[0]\n",
    "with io.StringIO() as sp:\n",
    "    for cmd in typed_commands:\n",
    "        print(cmd, file=sp)\n",
    "    s = sp.getvalue()\n",
    "    \n",
    "print(s)\n",
    "pyperclip.copy(s)\n"
   ]
  },
  {
   "cell_type": "code",
   "execution_count": null,
   "id": "1c2c10a6-b3c0-45c2-b8fe-e6b05f698ab4",
   "metadata": {},
   "outputs": [],
   "source": [
    "def parse_attr_dict(attr_dict):\n",
    "    with io.StringIO() as sp:\n",
    "        for key, value in attr_dict.items():\n",
    "            print(f' {key}=\"{value}\"', end='', file=sp)\n",
    "        return sp.getvalue()\n",
    "\n",
    "def line(x1, y1, x2, y2, attr={}):\n",
    "    \n",
    "    return f'<line x1=\"{x1}\" y1=\"{y1}\" x2=\"{x2}\" ' \\\n",
    "           f'y2=\"{y2}\"{parse_attr_dict(attr)}/>'\n",
    "\n",
    "def horizontal_line(x1, x2, y, attr={}):\n",
    "    return line(x1, y, x2, y, attr=attr)\n",
    "\n",
    "def vertical_line(x, y1, y2, attr={}):\n",
    "    return line(x, y1, x, y2, attr=attr)\n",
    "\n",
    "def get_grid_lines(min_x, min_y, max_x, max_y, incr, start_offset=-25):\n",
    "    for y in range(min_x, max_x+incr, incr):\n",
    "        yield horizontal_line(min_x+start_offset, max_x, y)\n",
    "    for x in range(min_y, max_y+incr, incr):\n",
    "        yield vertical_line(x, min_y+start_offset, max_y)\n",
    "        \n",
    "def get_axes(min_x, min_y, max_x, max_y):\n",
    "    attr = {'class': 'axis'}\n",
    "    if min_x <= 0 and max_x >= 0:\n",
    "        yield horizontal_line(min_x, max_x, 0, attr)\n",
    "    if min_y <= 0 and max_y >= 0:\n",
    "        yield vertical_line(0, min_y, max_y, attr)\n",
    "        \n",
    "def svg(content, viewbox='\"0 0 700 600\"'):\n",
    "    return f'''<svg viewbox={viewbox}>\n",
    "               <g transform=\"translate(25, 25)\">\n",
    "               <rect width=\"700\" height=\"600\" class=\"bounding-rectangle\" \n",
    "                stroke=\"#000\" stroke-width=\"1\" fill=\"#fff\"/>\n",
    "                {content}</g></svg>'''\n",
    "\n",
    "grid_lines ='\\n'.join(chain(get_grid_lines(0, 300, 650, 250, 100),\n",
    "                            get_axes(-25, -325, 650, 250)))\n",
    "\n",
    "grid = f'<g>{grid_lines}</g>'\n",
    "\n",
    "svg_doc = svg(grid)\n",
    "\n",
    "# print(svg_doc)\n",
    "\n",
    "# grid_tree = etree.XML(svg_doc)\n",
    "# pprint(etree.tostring(grid_tree, pretty_print=True).decode('utf-8'))\n",
    "\n",
    "HTML(svg_doc)\n",
    "pyperclip.copy(svg_doc)\n"
   ]
  },
  {
   "cell_type": "code",
   "execution_count": null,
   "id": "78d213bf-b8f2-4ca0-af14-43eb7609b276",
   "metadata": {},
   "outputs": [],
   "source": [
    "s = '\\n'.join(f'<text x=\"{i-9}\" y=\"-10\" class=\"axis-label\">{i}</text>'\n",
    "         for i in range(200, 700, 100))\n",
    "pyperclip.copy(s)\n",
    "print(s)\n"
   ]
  },
  {
   "cell_type": "code",
   "execution_count": null,
   "id": "ec6f4c35-9880-4cc2-8b41-c93ced0dc8fd",
   "metadata": {},
   "outputs": [],
   "source": [
    "s = '\\n'.join(f'<text x=\"-25\" y=\"{i+3}\">{i}</text>'\n",
    "              for i in range(-300, 0, 100))\n",
    "pyperclip.copy(s)\n",
    "print(s)"
   ]
  },
  {
   "cell_type": "code",
   "execution_count": null,
   "id": "48f376b2-b775-495a-addf-b5f6705a3156",
   "metadata": {},
   "outputs": [],
   "source": [
    "s = '\\n'.join(f'<line x1=\"-25\" y1=\"{i}\" x2=\"650\" y2=\"{i}\"/>'\n",
    "              for i in range(-300, 0, 100))\n",
    "pyperclip.copy(s)\n",
    "print(s)\n"
   ]
  },
  {
   "cell_type": "code",
   "execution_count": null,
   "id": "3c6f57f7-fed2-46db-a3b8-f685a720c359",
   "metadata": {},
   "outputs": [],
   "source": [
    "for t in typed_commands[1:3]:\n",
    "    print(t)\n",
    "    "
   ]
  },
  {
   "cell_type": "code",
   "execution_count": null,
   "id": "f5afd301-cbb6-4604-a716-3bb22d027ef8",
   "metadata": {},
   "outputs": [],
   "source": [
    "with io.StringIO() as fp:\n",
    "    for t in typed_commands[:2]:\n",
    "        match t:\n",
    "            case CubicBezierAbs() as b:\n",
    "                print(f'{b.to_rel()}', file=fp)\n",
    "            case _:\n",
    "                print(f'{t}', file=fp)\n",
    "    s = fp.getvalue()\n",
    "    \n",
    "as_path = f'<path d=\\\"{\" \".join(line.strip() for line in s.splitlines())}\\\" class=\"special\"/>'\n",
    "print(as_path)\n",
    "pyperclip.copy(as_path)"
   ]
  },
  {
   "cell_type": "code",
   "execution_count": null,
   "id": "08f5a321-1392-4105-8d81-de0d8707dd17",
   "metadata": {},
   "outputs": [],
   "source": [
    "RAW_CMD_RE = regex.compile(r'(?ix)[clmsvz](\\s+(-?\\d+(\\.d+)?))*')\n",
    "\n",
    "def reformat_path_def(path_def, leader_size=30):\n",
    "    leader = ' ' * leader_size\n",
    "    return '\\n'.join(f'{leader}{m[0]}' for m in RAW_CMD_RE.finditer(path_def))\n",
    "\n",
    "print(reformat_path_def('M 213 112                 c -45 0 -69 -34 -69 -88                 c 0 -102 89 -136 134 -136                 s 69 34 69 88                 c 0 102 -89 136 -134 136                 z                 M 245 136                 c 144 0 246 -65 246 -136                 s -102 -136 -246 -136                 s -245 65 -245 136                 s 101 136 245 136                 z', leader_size=0))"
   ]
  },
  {
   "cell_type": "code",
   "execution_count": null,
   "id": "d6915610-e263-4127-ba95-c1b279a0bdca",
   "metadata": {
    "tags": []
   },
   "outputs": [],
   "source": [
    "import typing\n",
    "\n",
    "class CoordinatePair(typing.NamedTuple):\n",
    "    x: int\n",
    "    y: int\n",
    "    \n",
    "    def __str__(self):\n",
    "        return f' {self.x}, {self.y}'\n",
    "        \n",
    "    def __repr__(self):\n",
    "        return f'{self.__class__.__name__}(x={self.x}, y={self.y})'\n",
    "    \n",
    "    def __add__(self, other):\n",
    "        return CoordinatePair(self.x + other.x, self.y + other.y)\n",
    "    \n",
    "    def __sub__(self, other):\n",
    "        return CoordinatePair(self.x - other.x, self.y - other.y)\n",
    "    \n",
    "    def __rmul__(self, other):\n",
    "        match other:\n",
    "            case int() | float() as p:\n",
    "                return CoordinatePair(p * self.x, p * self.y)\n",
    "            case _:\n",
    "                raise TypeError\n",
    "    \n",
    "class SimpleCommand():\n",
    "    \n",
    "    def __init__(self, command, coordinates: list[CoordinatePair]):\n",
    "        \n",
    "        match command:\n",
    "            case list() as l:\n",
    "                self.command = l[0]\n",
    "            case _:\n",
    "                self.command = command\n",
    "                \n",
    "        self.coordinates = coordinates\n",
    "    \n",
    "    def __str__(self):\n",
    "        with io.StringIO() as sp:\n",
    "            prints = partial(print, file=sp)\n",
    "            prints(self.command, end='     ')\n",
    "            if self.coordinates:\n",
    "                for coordinate in self.coordinates:\n",
    "                    prints(coordinate)\n",
    "                    prints('      ', end='')\n",
    "            return sp.getvalue()\n",
    "        \n",
    "    def __repr__(self):\n",
    "        with io.StringIO() as sp:\n",
    "            prints = partial(print, end='', file=sp)\n",
    "            prints(f'{self.__class__.__name__}(command=\"{self.command}\", ')\n",
    "            prints('coordinates=[')\n",
    "            coordinates_str = ', '.join([f'{pair!r}' for pair \n",
    "                                         in self.coordinates])\n",
    "            prints(f'{coordinates_str}]')\n",
    "            return sp.getvalue()\n",
    "                \n",
    "                \n",
    "def parse_coordinates(coordinate_str):\n",
    "    if not s:\n",
    "        return\n",
    "    return CoordinatePair(*(int(s) for s in coordinate_str.split()))\n",
    "\n",
    "def parse_command(capturesdict) -> SimpleCommand:\n",
    "    return SimpleCommand(command=capturesdict['command'][0], \n",
    "                         coordinates=[parse_coordinates(c) for c \n",
    "                                      in capturesdict['coordinates']])\n",
    "\n",
    "CMD_WITH_PAIRED_ARGS_RE = \\\n",
    "    regex.compile(r'(?ix)(?P<command>[clmsvz])'\n",
    "                  r'(\\s+(?P<coordinates>'\n",
    "                  r'    -?\\d+(\\.\\d+)?'\n",
    "                  r'\\s+'\n",
    "                  r'    -?\\d+(\\.\\d+)?'\n",
    "                  r'))*')\n",
    "\n",
    "def get_simple_commands(s: str) -> Generator[SimpleCommand]:\n",
    "    for m in CMD_WITH_PAIRED_ARGS_RE.finditer(s):\n",
    "        d = m.capturesdict()\n",
    "        parsed_command = parse_command(d)\n",
    "        yield parsed_command\n",
    "\n",
    "def get_abs_cubic_beziers(commands: Iterator[SimpleCommand]) \\\n",
    "        -> Generator[list[CoordinatePair]]:\n",
    "    for cmd in commands:\n",
    "        match cmd.command:\n",
    "            case 'M':\n",
    "                start_point = cmd.coordinates[0]\n",
    "            case 'c':\n",
    "                control_points = \\\n",
    "                    [start_point] + \\\n",
    "                    [start_point + coordinate for coordinate in cmd.coordinates]\n",
    "                start_point = control_points[-1]\n",
    "                previous_bezier = control_points\n",
    "                yield control_points\n",
    "            case 's':\n",
    "                control_points = [start_point] \\\n",
    "                               + [2 * start_point - previous_bezier[2]] \\\n",
    "                               + [start_point + coordinate \n",
    "                                  for coordinate in cmd.coordinates]\n",
    "                start_point = control_points[-1]\n",
    "                previous_bezier = control_points\n",
    "                yield control_points\n",
    "            case 'z':\n",
    "                start_point = []\n",
    "                previous_bezier = []\n",
    "\n",
    "def get_paths_from_control_points(control_points):\n",
    "    ''' Use this method to generate path statements for\n",
    "        verifying that the conversion of relative coordinates\n",
    "        to absolute coordinates has been successful. '''\n",
    "    \n",
    "    s = f'<path d=\"M {control_points[0]!s} C '\n",
    "    for cp in control_points[1:4]:\n",
    "        s += f'{cp!s} '\n",
    "    s = s.strip() + '\" class=\"absolute\"/>'\n",
    "    return s.strip()\n",
    "                \n",
    "get_control_points = compose_left(get_simple_commands, \n",
    "                                  get_abs_cubic_beziers,\n",
    "                                  list)\n",
    "    \n",
    "# beziers = pipe(s, get_simple_commands, get_abs_cubic_beziers, list)\n",
    "\n",
    "# for control_points in beziers:\n",
    "#     print(get_paths_from_control_points(control_points))\n",
    "\n",
    "\n"
   ]
  },
  {
   "cell_type": "code",
   "execution_count": null,
   "id": "66adacbc-2ca1-44bc-86fc-378a7767dad4",
   "metadata": {
    "scrolled": true,
    "tags": []
   },
   "outputs": [],
   "source": [
    "defs = read_templates()\n",
    "for def_ in defs:\n",
    "    print_element(def_)"
   ]
  },
  {
   "cell_type": "code",
   "execution_count": null,
   "id": "cc8899e8-0231-42eb-a1a2-80776bafbeba",
   "metadata": {
    "tags": []
   },
   "outputs": [],
   "source": [
    "cat /Users/richard/Repos/note_hierarchy/svg/notes_only_formatted.svg"
   ]
  },
  {
   "cell_type": "code",
   "execution_count": null,
   "id": "d9ee1c1f-d02f-47ef-b595-92abcbe1762f",
   "metadata": {
    "scrolled": true,
    "tags": []
   },
   "outputs": [],
   "source": [
    "s = 'M 213 112                 c -45 0 -69 -34 -69 -88                 c 0 -102 89 -136 134 -136                 s 69 34 69 88                 c 0 102 -89 136 -134 136                 z                 M 245 136                 c 144 0 246 -65 246 -136                 s -102 -136 -246 -136                 s -245 65 -245 136                 s 101 136 245 136                 z'\n",
    "\n",
    "for cmd in get_simple_commands(s):\n",
    "    print(cmd)\n"
   ]
  },
  {
   "cell_type": "code",
   "execution_count": null,
   "id": "0422c036-6da6-4002-9a96-534313fcc148",
   "metadata": {},
   "outputs": [],
   "source": []
  }
 ],
 "metadata": {
  "kernelspec": {
   "display_name": "Python 3 (ipykernel)",
   "language": "python",
   "name": "python3"
  },
  "language_info": {
   "codemirror_mode": {
    "name": "ipython",
    "version": 3
   },
   "file_extension": ".py",
   "mimetype": "text/x-python",
   "name": "python",
   "nbconvert_exporter": "python",
   "pygments_lexer": "ipython3",
   "version": "3.10.11"
  }
 },
 "nbformat": 4,
 "nbformat_minor": 5
}
